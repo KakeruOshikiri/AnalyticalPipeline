{
 "cells": [
  {
   "cell_type": "markdown",
   "metadata": {},
   "source": [
    "回帰"
   ]
  },
  {
   "cell_type": "markdown",
   "metadata": {},
   "source": [
    "## 必要なライブラリのimport"
   ]
  },
  {
   "cell_type": "code",
   "execution_count": 1,
   "metadata": {},
   "outputs": [],
   "source": [
    "import numpy as np\n",
    "import pandas as pd\n",
    "import lightgbm as lgb\n",
    "from sklearn.metrics import mean_squared_error\n",
    "import pickle"
   ]
  },
  {
   "cell_type": "code",
   "execution_count": 2,
   "metadata": {},
   "outputs": [],
   "source": [
    "# 予測したいデータの読み込み\n",
    "path_test_preprp = '../../../../data/processed/test_processed_20.csv'\n",
    "\n",
    "test = pd.read_csv(path_test_preprp)"
   ]
  },
  {
   "cell_type": "markdown",
   "metadata": {},
   "source": [
    "## 保存されたモデルを使って予測を行う"
   ]
  },
  {
   "cell_type": "code",
   "execution_count": 3,
   "metadata": {},
   "outputs": [],
   "source": [
    "n_folds = 5\n",
    "predictions = np.zeros(len(test))\n",
    "features = [c for c in test.columns if c not in ['card_id',]]\n",
    "#categorical_feats = ['feature_1','feature_2', 'feature_3','hist_merchant_category_nu','hist_merchant_category_mode','hist_city_nu','hist_city_mode','hist_state_nu','hist_state_mode','hist_category_1_mod','hist_category_2_mod','hist_category_3_mod','new_merchant_category_nu','new_merchant_category_mode','new_city_nu','new_city_mode','new_state_nu','new_state_mode','new_category_1_mod','new_category_2_mod','new_category_3_mod']\n",
    "\n",
    "\n",
    "for fold_ in range(n_folds):\n",
    "    # モデルを読み込む\n",
    "    with open(f'../src/models/lgb_20/model_fold_{fold_}.pkl', 'rb') as f:\n",
    "        clf = pickle.load(f)\n",
    "    # モデルで予測を行う\n",
    "    fold_predictions = clf.predict(test[features])\n",
    "    # 予測結果を足し合わせる\n",
    "    predictions += fold_predictions\n",
    "\n",
    "# 平均を取る\n",
    "predictions /= n_folds\n",
    "\n",
    "# RMSEを計算する（テストデータに対して真の値がある場合）\n",
    "# y_testが存在する場合に限り\n",
    "if 'y_test' in locals():\n",
    "    score = mean_squared_error(y_test, predictions, squared=False)\n",
    "    print(f'RMSE={score}')"
   ]
  },
  {
   "cell_type": "code",
   "execution_count": 4,
   "metadata": {},
   "outputs": [
    {
     "name": "stdout",
     "output_type": "stream",
     "text": [
      "[-2.04184837 -0.2304551  -0.7127363  ...  0.91878772 -2.72491461\n",
      "  0.10492172]\n"
     ]
    }
   ],
   "source": [
    "# 予測結果を出力する\n",
    "print(predictions)"
   ]
  },
  {
   "cell_type": "markdown",
   "metadata": {},
   "source": [
    "## 提出用ファイルの作成"
   ]
  },
  {
   "cell_type": "code",
   "execution_count": 5,
   "metadata": {},
   "outputs": [],
   "source": [
    "sub_df = pd.DataFrame({\"card_id\":test[\"card_id\"].values})\n",
    "sub_df[\"target\"] = predictions\n",
    "sub_df.to_csv(\"../submit_oshikiri_20.csv\", index=False)"
   ]
  },
  {
   "cell_type": "code",
   "execution_count": 8,
   "metadata": {},
   "outputs": [
    {
     "data": {
      "text/plain": [
       "(array([1.0000e+00, 0.0000e+00, 0.0000e+00, 0.0000e+00, 1.0000e+00,\n",
       "        1.0000e+00, 0.0000e+00, 1.0000e+00, 4.0000e+00, 3.0000e+00,\n",
       "        5.0000e+00, 6.0000e+00, 4.0000e+00, 1.0000e+00, 6.0000e+00,\n",
       "        6.0000e+00, 5.0000e+00, 5.0000e+00, 8.0000e+00, 1.0000e+01,\n",
       "        8.0000e+00, 1.0000e+01, 1.0000e+01, 6.0000e+00, 6.0000e+00,\n",
       "        1.1000e+01, 1.3000e+01, 1.6000e+01, 1.6000e+01, 2.0000e+01,\n",
       "        2.3000e+01, 2.2000e+01, 9.0000e+00, 2.2000e+01, 2.0000e+01,\n",
       "        2.3000e+01, 1.7000e+01, 3.6000e+01, 2.1000e+01, 3.5000e+01,\n",
       "        3.7000e+01, 2.4000e+01, 2.3000e+01, 3.1000e+01, 2.8000e+01,\n",
       "        5.1000e+01, 4.0000e+01, 4.6000e+01, 4.4000e+01, 5.3000e+01,\n",
       "        6.7000e+01, 6.7000e+01, 8.9000e+01, 9.3000e+01, 6.1000e+01,\n",
       "        9.5000e+01, 9.8000e+01, 1.0900e+02, 1.4100e+02, 1.4000e+02,\n",
       "        1.5300e+02, 1.7300e+02, 2.1300e+02, 2.6700e+02, 2.9000e+02,\n",
       "        3.1500e+02, 4.1400e+02, 4.4900e+02, 5.5400e+02, 6.1800e+02,\n",
       "        8.0100e+02, 9.3600e+02, 1.1330e+03, 1.4970e+03, 1.9650e+03,\n",
       "        2.4860e+03, 3.0390e+03, 3.9980e+03, 4.8730e+03, 6.5670e+03,\n",
       "        8.7990e+03, 1.2344e+04, 1.5378e+04, 1.5368e+04, 1.1152e+04,\n",
       "        7.2560e+03, 6.0420e+03, 5.8110e+03, 4.1100e+03, 2.3540e+03,\n",
       "        1.2560e+03, 6.4300e+02, 3.3000e+02, 1.6100e+02, 7.5000e+01,\n",
       "        3.3000e+01, 1.1000e+01, 5.0000e+00, 3.0000e+00, 3.0000e+00]),\n",
       " array([-1.26791662e+01, -1.25283149e+01, -1.23774636e+01, -1.22266122e+01,\n",
       "        -1.20757609e+01, -1.19249095e+01, -1.17740582e+01, -1.16232069e+01,\n",
       "        -1.14723555e+01, -1.13215042e+01, -1.11706529e+01, -1.10198015e+01,\n",
       "        -1.08689502e+01, -1.07180989e+01, -1.05672475e+01, -1.04163962e+01,\n",
       "        -1.02655449e+01, -1.01146935e+01, -9.96384219e+00, -9.81299086e+00,\n",
       "        -9.66213952e+00, -9.51128818e+00, -9.36043685e+00, -9.20958551e+00,\n",
       "        -9.05873418e+00, -8.90788284e+00, -8.75703151e+00, -8.60618017e+00,\n",
       "        -8.45532884e+00, -8.30447750e+00, -8.15362617e+00, -8.00277483e+00,\n",
       "        -7.85192350e+00, -7.70107216e+00, -7.55022083e+00, -7.39936949e+00,\n",
       "        -7.24851816e+00, -7.09766682e+00, -6.94681549e+00, -6.79596415e+00,\n",
       "        -6.64511282e+00, -6.49426148e+00, -6.34341014e+00, -6.19255881e+00,\n",
       "        -6.04170747e+00, -5.89085614e+00, -5.74000480e+00, -5.58915347e+00,\n",
       "        -5.43830213e+00, -5.28745080e+00, -5.13659946e+00, -4.98574813e+00,\n",
       "        -4.83489679e+00, -4.68404546e+00, -4.53319412e+00, -4.38234279e+00,\n",
       "        -4.23149145e+00, -4.08064012e+00, -3.92978878e+00, -3.77893745e+00,\n",
       "        -3.62808611e+00, -3.47723478e+00, -3.32638344e+00, -3.17553210e+00,\n",
       "        -3.02468077e+00, -2.87382943e+00, -2.72297810e+00, -2.57212676e+00,\n",
       "        -2.42127543e+00, -2.27042409e+00, -2.11957276e+00, -1.96872142e+00,\n",
       "        -1.81787009e+00, -1.66701875e+00, -1.51616742e+00, -1.36531608e+00,\n",
       "        -1.21446475e+00, -1.06361341e+00, -9.12762076e-01, -7.61910741e-01,\n",
       "        -6.11059406e-01, -4.60208071e-01, -3.09356735e-01, -1.58505400e-01,\n",
       "        -7.65406494e-03,  1.43197270e-01,  2.94048606e-01,  4.44899941e-01,\n",
       "         5.95751276e-01,  7.46602611e-01,  8.97453946e-01,  1.04830528e+00,\n",
       "         1.19915662e+00,  1.35000795e+00,  1.50085929e+00,  1.65171062e+00,\n",
       "         1.80256196e+00,  1.95341329e+00,  2.10426463e+00,  2.25511596e+00,\n",
       "         2.40596730e+00]),\n",
       " <BarContainer object of 100 artists>)"
      ]
     },
     "execution_count": 8,
     "metadata": {},
     "output_type": "execute_result"
    },
    {
     "data": {
      "image/png": "[encoded data removed]",
      "text/plain": [
       "<Figure size 640x480 with 1 Axes>"
      ]
     },
     "metadata": {},
     "output_type": "display_data"
    }
   ],
   "source": [
    "import matplotlib.pyplot as plt\n",
    "\n",
    "plt.hist(sub_df.target, bins=100)"
   ]
  },
  {
   "cell_type": "code",
   "execution_count": 7,
   "metadata": {},
   "outputs": [
    {
     "data": {
      "text/html": [
       "<div>\n",
       "<style scoped>\n",
       "    .dataframe tbody tr th:only-of-type {\n",
       "        vertical-align: middle;\n",
       "    }\n",
       "\n",
       "    .dataframe tbody tr th {\n",
       "        vertical-align: top;\n",
       "    }\n",
       "\n",
       "    .dataframe thead th {\n",
       "        text-align: right;\n",
       "    }\n",
       "</style>\n",
       "<table border=\"1\" class=\"dataframe\">\n",
       "  <thead>\n",
       "    <tr style=\"text-align: right;\">\n",
       "      <th></th>\n",
       "      <th>card_id</th>\n",
       "      <th>target</th>\n",
       "    </tr>\n",
       "  </thead>\n",
       "  <tbody>\n",
       "    <tr>\n",
       "      <th>0</th>\n",
       "      <td>C_ID_0ab67a22ab</td>\n",
       "      <td>-2.035634</td>\n",
       "    </tr>\n",
       "    <tr>\n",
       "      <th>1</th>\n",
       "      <td>C_ID_130fd0cbdd</td>\n",
       "      <td>-0.091265</td>\n",
       "    </tr>\n",
       "    <tr>\n",
       "      <th>2</th>\n",
       "      <td>C_ID_b709037bc5</td>\n",
       "      <td>0.311744</td>\n",
       "    </tr>\n",
       "    <tr>\n",
       "      <th>3</th>\n",
       "      <td>C_ID_d27d835a9f</td>\n",
       "      <td>-0.185853</td>\n",
       "    </tr>\n",
       "    <tr>\n",
       "      <th>4</th>\n",
       "      <td>C_ID_2b5e3df5c2</td>\n",
       "      <td>-0.158231</td>\n",
       "    </tr>\n",
       "    <tr>\n",
       "      <th>...</th>\n",
       "      <td>...</td>\n",
       "      <td>...</td>\n",
       "    </tr>\n",
       "    <tr>\n",
       "      <th>123618</th>\n",
       "      <td>C_ID_7a239d2eda</td>\n",
       "      <td>0.767411</td>\n",
       "    </tr>\n",
       "    <tr>\n",
       "      <th>123619</th>\n",
       "      <td>C_ID_75ace375ae</td>\n",
       "      <td>0.269988</td>\n",
       "    </tr>\n",
       "    <tr>\n",
       "      <th>123620</th>\n",
       "      <td>C_ID_21d56d950c</td>\n",
       "      <td>1.052272</td>\n",
       "    </tr>\n",
       "    <tr>\n",
       "      <th>123621</th>\n",
       "      <td>C_ID_6c46fc5a9d</td>\n",
       "      <td>-2.541991</td>\n",
       "    </tr>\n",
       "    <tr>\n",
       "      <th>123622</th>\n",
       "      <td>C_ID_87e7979a5f</td>\n",
       "      <td>0.074995</td>\n",
       "    </tr>\n",
       "  </tbody>\n",
       "</table>\n",
       "<p>123623 rows × 2 columns</p>\n",
       "</div>"
      ],
      "text/plain": [
       "                card_id    target\n",
       "0       C_ID_0ab67a22ab -2.035634\n",
       "1       C_ID_130fd0cbdd -0.091265\n",
       "2       C_ID_b709037bc5  0.311744\n",
       "3       C_ID_d27d835a9f -0.185853\n",
       "4       C_ID_2b5e3df5c2 -0.158231\n",
       "...                 ...       ...\n",
       "123618  C_ID_7a239d2eda  0.767411\n",
       "123619  C_ID_75ace375ae  0.269988\n",
       "123620  C_ID_21d56d950c  1.052272\n",
       "123621  C_ID_6c46fc5a9d -2.541991\n",
       "123622  C_ID_87e7979a5f  0.074995\n",
       "\n",
       "[123623 rows x 2 columns]"
      ]
     },
     "execution_count": 7,
     "metadata": {},
     "output_type": "execute_result"
    }
   ],
   "source": [
    "sub_df"
   ]
  }
 ],
 "metadata": {
  "kernelspec": {
   "display_name": "Python 3",
   "language": "python",
   "name": "python3"
  },
  "language_info": {
   "codemirror_mode": {
    "name": "ipython",
    "version": 3
   },
   "file_extension": ".py",
   "mimetype": "text/x-python",
   "name": "python",
   "nbconvert_exporter": "python",
   "pygments_lexer": "ipython3",
   "version": "3.12.4"
  }
 },
 "nbformat": 4,
 "nbformat_minor": 2
}
