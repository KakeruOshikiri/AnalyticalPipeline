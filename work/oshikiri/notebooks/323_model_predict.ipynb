{
 "cells": [
  {
   "cell_type": "markdown",
   "metadata": {},
   "source": [
    "回帰"
   ]
  },
  {
   "cell_type": "markdown",
   "metadata": {},
   "source": [
    "## 必要なライブラリのimport"
   ]
  },
  {
   "cell_type": "code",
   "execution_count": 1,
   "metadata": {},
   "outputs": [],
   "source": [
    "import numpy as np\n",
    "import pandas as pd\n",
    "import lightgbm as lgb\n",
    "from sklearn.metrics import mean_squared_error\n",
    "import pickle"
   ]
  },
  {
   "cell_type": "code",
   "execution_count": 2,
   "metadata": {},
   "outputs": [],
   "source": [
    "# 予測したいデータの読み込み\n",
    "path_test_preprp = '../../../../data/processed/test_processed_23.csv'\n",
    "\n",
    "test = pd.read_csv(path_test_preprp)"
   ]
  },
  {
   "cell_type": "markdown",
   "metadata": {},
   "source": [
    "## 保存されたモデルを使って予測を行う"
   ]
  },
  {
   "cell_type": "code",
   "execution_count": 12,
   "metadata": {},
   "outputs": [],
   "source": [
    "n_folds = 5\n",
    "predictions = np.zeros(len(test))\n",
    "features = [c for c in test.columns if c not in ['card_id',]]\n",
    "#categorical_feats = ['feature_1','feature_2', 'feature_3','hist_merchant_category_nu','hist_merchant_category_mode','hist_city_nu','hist_city_mode','hist_state_nu','hist_state_mode','hist_category_1_mod','hist_category_2_mod','hist_category_3_mod','new_merchant_category_nu','new_merchant_category_mode','new_city_nu','new_city_mode','new_state_nu','new_state_mode','new_category_1_mod','new_category_2_mod','new_category_3_mod']\n",
    "\n",
    "\n",
    "for fold_ in range(n_folds):\n",
    "    # モデルを読み込む\n",
    "    with open(f'../src/models/lgb_23/model_fold_{fold_}.pkl', 'rb') as f:\n",
    "        clf = pickle.load(f)\n",
    "    # モデルで予測を行う\n",
    "    fold_predictions = clf.predict(test[features])\n",
    "    # 予測結果を足し合わせる\n",
    "    predictions += fold_predictions\n",
    "\n",
    "# 平均を取る\n",
    "predictions /= n_folds\n",
    "\n",
    "# RMSEを計算する（テストデータに対して真の値がある場合）\n",
    "# y_testが存在する場合に限り\n",
    "if 'y_test' in locals():\n",
    "    score = mean_squared_error(y_test, predictions, squared=False)\n",
    "    print(f'RMSE={score}')"
   ]
  },
  {
   "cell_type": "code",
   "execution_count": 13,
   "metadata": {},
   "outputs": [
    {
     "name": "stdout",
     "output_type": "stream",
     "text": [
      "[-2.07215265 -0.1918184  -0.59127448 ...  1.00185409 -2.99506009\n",
      "  0.09697266]\n"
     ]
    }
   ],
   "source": [
    "# 予測結果を出力する\n",
    "print(predictions)"
   ]
  },
  {
   "cell_type": "markdown",
   "metadata": {},
   "source": [
    "## 提出用ファイルの作成"
   ]
  },
  {
   "cell_type": "code",
   "execution_count": 17,
   "metadata": {},
   "outputs": [],
   "source": [
    "sub_df = pd.DataFrame({\"card_id\":test[\"card_id\"].values})\n",
    "sub_df[\"target\"] = predictions\n",
    "sub_df.to_csv(\"../submit_oshikiri_23.csv\", index=False)"
   ]
  },
  {
   "cell_type": "code",
   "execution_count": 18,
   "metadata": {},
   "outputs": [
    {
     "data": {
      "text/plain": [
       "(array([1.0000e+00, 1.0000e+00, 0.0000e+00, 1.0000e+00, 1.0000e+00,\n",
       "        0.0000e+00, 2.0000e+00, 1.0000e+00, 5.0000e+00, 2.0000e+00,\n",
       "        2.0000e+00, 3.0000e+00, 6.0000e+00, 8.0000e+00, 3.0000e+00,\n",
       "        4.0000e+00, 4.0000e+00, 9.0000e+00, 5.0000e+00, 8.0000e+00,\n",
       "        1.1000e+01, 1.1000e+01, 1.3000e+01, 7.0000e+00, 9.0000e+00,\n",
       "        8.0000e+00, 1.0000e+01, 9.0000e+00, 1.3000e+01, 1.6000e+01,\n",
       "        2.0000e+01, 2.2000e+01, 1.6000e+01, 1.9000e+01, 1.8000e+01,\n",
       "        2.6000e+01, 3.0000e+01, 2.4000e+01, 1.9000e+01, 2.3000e+01,\n",
       "        1.7000e+01, 2.4000e+01, 3.1000e+01, 3.8000e+01, 3.7000e+01,\n",
       "        3.7000e+01, 3.7000e+01, 5.2000e+01, 5.7000e+01, 5.2000e+01,\n",
       "        6.6000e+01, 7.6000e+01, 6.1000e+01, 7.2000e+01, 7.0000e+01,\n",
       "        7.7000e+01, 9.3000e+01, 1.1100e+02, 1.4700e+02, 1.3200e+02,\n",
       "        1.5100e+02, 1.7700e+02, 2.0100e+02, 2.2600e+02, 2.6500e+02,\n",
       "        3.4100e+02, 3.7100e+02, 4.6200e+02, 5.5000e+02, 6.1800e+02,\n",
       "        8.7100e+02, 1.0020e+03, 1.2580e+03, 1.6630e+03, 2.0470e+03,\n",
       "        2.5080e+03, 3.1330e+03, 3.7750e+03, 4.7740e+03, 6.0240e+03,\n",
       "        7.9780e+03, 1.0892e+04, 1.4794e+04, 1.6296e+04, 1.2055e+04,\n",
       "        7.8450e+03, 6.0930e+03, 5.7380e+03, 4.1500e+03, 2.5710e+03,\n",
       "        1.4060e+03, 8.4200e+02, 4.5000e+02, 2.2100e+02, 1.1400e+02,\n",
       "        4.3000e+01, 2.3000e+01, 1.1000e+01, 4.0000e+00, 3.0000e+00]),\n",
       " array([-12.76380243, -12.61215195, -12.46050146, -12.30885097,\n",
       "        -12.15720049, -12.00555   , -11.85389952, -11.70224903,\n",
       "        -11.55059855, -11.39894806, -11.24729758, -11.09564709,\n",
       "        -10.9439966 , -10.79234612, -10.64069563, -10.48904515,\n",
       "        -10.33739466, -10.18574418, -10.03409369,  -9.88244321,\n",
       "         -9.73079272,  -9.57914224,  -9.42749175,  -9.27584126,\n",
       "         -9.12419078,  -8.97254029,  -8.82088981,  -8.66923932,\n",
       "         -8.51758884,  -8.36593835,  -8.21428787,  -8.06263738,\n",
       "         -7.91098689,  -7.75933641,  -7.60768592,  -7.45603544,\n",
       "         -7.30438495,  -7.15273447,  -7.00108398,  -6.8494335 ,\n",
       "         -6.69778301,  -6.54613252,  -6.39448204,  -6.24283155,\n",
       "         -6.09118107,  -5.93953058,  -5.7878801 ,  -5.63622961,\n",
       "         -5.48457913,  -5.33292864,  -5.18127815,  -5.02962767,\n",
       "         -4.87797718,  -4.7263267 ,  -4.57467621,  -4.42302573,\n",
       "         -4.27137524,  -4.11972476,  -3.96807427,  -3.81642378,\n",
       "         -3.6647733 ,  -3.51312281,  -3.36147233,  -3.20982184,\n",
       "         -3.05817136,  -2.90652087,  -2.75487039,  -2.6032199 ,\n",
       "         -2.45156941,  -2.29991893,  -2.14826844,  -1.99661796,\n",
       "         -1.84496747,  -1.69331699,  -1.5416665 ,  -1.39001602,\n",
       "         -1.23836553,  -1.08671505,  -0.93506456,  -0.78341407,\n",
       "         -0.63176359,  -0.4801131 ,  -0.32846262,  -0.17681213,\n",
       "         -0.02516165,   0.12648884,   0.27813932,   0.42978981,\n",
       "          0.5814403 ,   0.73309078,   0.88474127,   1.03639175,\n",
       "          1.18804224,   1.33969272,   1.49134321,   1.64299369,\n",
       "          1.79464418,   1.94629467,   2.09794515,   2.24959564,\n",
       "          2.40124612]),\n",
       " <BarContainer object of 100 artists>)"
      ]
     },
     "execution_count": 18,
     "metadata": {},
     "output_type": "execute_result"
    },
    {
     "data": {
      "image/png": "[encoded data removed]",
      "text/plain": [
       "<Figure size 640x480 with 1 Axes>"
      ]
     },
     "metadata": {},
     "output_type": "display_data"
    }
   ],
   "source": [
    "import matplotlib.pyplot as plt\n",
    "plt.yscale('log')\n",
    "plt.hist(sub_df.target, bins=100)\n",
    "#plt.hist(predictions[predictions<0], bins=100)"
   ]
  },
  {
   "cell_type": "code",
   "execution_count": 19,
   "metadata": {},
   "outputs": [
    {
     "data": {
      "text/html": [
       "<div>\n",
       "<style scoped>\n",
       "    .dataframe tbody tr th:only-of-type {\n",
       "        vertical-align: middle;\n",
       "    }\n",
       "\n",
       "    .dataframe tbody tr th {\n",
       "        vertical-align: top;\n",
       "    }\n",
       "\n",
       "    .dataframe thead th {\n",
       "        text-align: right;\n",
       "    }\n",
       "</style>\n",
       "<table border=\"1\" class=\"dataframe\">\n",
       "  <thead>\n",
       "    <tr style=\"text-align: right;\">\n",
       "      <th></th>\n",
       "      <th>card_id</th>\n",
       "      <th>target</th>\n",
       "    </tr>\n",
       "  </thead>\n",
       "  <tbody>\n",
       "    <tr>\n",
       "      <th>0</th>\n",
       "      <td>C_ID_0ab67a22ab</td>\n",
       "      <td>-2.072153</td>\n",
       "    </tr>\n",
       "    <tr>\n",
       "      <th>1</th>\n",
       "      <td>C_ID_130fd0cbdd</td>\n",
       "      <td>-0.191818</td>\n",
       "    </tr>\n",
       "    <tr>\n",
       "      <th>2</th>\n",
       "      <td>C_ID_b709037bc5</td>\n",
       "      <td>-0.591274</td>\n",
       "    </tr>\n",
       "    <tr>\n",
       "      <th>3</th>\n",
       "      <td>C_ID_d27d835a9f</td>\n",
       "      <td>-0.176060</td>\n",
       "    </tr>\n",
       "    <tr>\n",
       "      <th>4</th>\n",
       "      <td>C_ID_2b5e3df5c2</td>\n",
       "      <td>-0.980048</td>\n",
       "    </tr>\n",
       "    <tr>\n",
       "      <th>...</th>\n",
       "      <td>...</td>\n",
       "      <td>...</td>\n",
       "    </tr>\n",
       "    <tr>\n",
       "      <th>123618</th>\n",
       "      <td>C_ID_7a239d2eda</td>\n",
       "      <td>0.800503</td>\n",
       "    </tr>\n",
       "    <tr>\n",
       "      <th>123619</th>\n",
       "      <td>C_ID_75ace375ae</td>\n",
       "      <td>-0.307557</td>\n",
       "    </tr>\n",
       "    <tr>\n",
       "      <th>123620</th>\n",
       "      <td>C_ID_21d56d950c</td>\n",
       "      <td>1.001854</td>\n",
       "    </tr>\n",
       "    <tr>\n",
       "      <th>123621</th>\n",
       "      <td>C_ID_6c46fc5a9d</td>\n",
       "      <td>-2.995060</td>\n",
       "    </tr>\n",
       "    <tr>\n",
       "      <th>123622</th>\n",
       "      <td>C_ID_87e7979a5f</td>\n",
       "      <td>0.096973</td>\n",
       "    </tr>\n",
       "  </tbody>\n",
       "</table>\n",
       "<p>123623 rows × 2 columns</p>\n",
       "</div>"
      ],
      "text/plain": [
       "                card_id    target\n",
       "0       C_ID_0ab67a22ab -2.072153\n",
       "1       C_ID_130fd0cbdd -0.191818\n",
       "2       C_ID_b709037bc5 -0.591274\n",
       "3       C_ID_d27d835a9f -0.176060\n",
       "4       C_ID_2b5e3df5c2 -0.980048\n",
       "...                 ...       ...\n",
       "123618  C_ID_7a239d2eda  0.800503\n",
       "123619  C_ID_75ace375ae -0.307557\n",
       "123620  C_ID_21d56d950c  1.001854\n",
       "123621  C_ID_6c46fc5a9d -2.995060\n",
       "123622  C_ID_87e7979a5f  0.096973\n",
       "\n",
       "[123623 rows x 2 columns]"
      ]
     },
     "execution_count": 19,
     "metadata": {},
     "output_type": "execute_result"
    }
   ],
   "source": [
    "sub_df"
   ]
  },
  {
   "cell_type": "code",
   "execution_count": null,
   "metadata": {},
   "outputs": [],
   "source": []
  }
 ],
 "metadata": {
  "kernelspec": {
   "display_name": "Python 3",
   "language": "python",
   "name": "python3"
  },
  "language_info": {
   "codemirror_mode": {
    "name": "ipython",
    "version": 3
   },
   "file_extension": ".py",
   "mimetype": "text/x-python",
   "name": "python",
   "nbconvert_exporter": "python",
   "pygments_lexer": "ipython3",
   "version": "3.12.4"
  }
 },
 "nbformat": 4,
 "nbformat_minor": 2
}
