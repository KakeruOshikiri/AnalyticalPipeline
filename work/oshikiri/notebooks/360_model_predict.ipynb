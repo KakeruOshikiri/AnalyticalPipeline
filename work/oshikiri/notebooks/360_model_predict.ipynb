{
 "cells": [
  {
   "cell_type": "markdown",
   "metadata": {},
   "source": [
    "260\n"
   ]
  },
  {
   "cell_type": "markdown",
   "metadata": {},
   "source": [
    "## 必要なライブラリのimport"
   ]
  },
  {
   "cell_type": "code",
   "execution_count": 1,
   "metadata": {},
   "outputs": [],
   "source": [
    "import numpy as np\n",
    "import pandas as pd\n",
    "import lightgbm as lgb\n",
    "from sklearn.metrics import mean_squared_error\n",
    "import pickle\n",
    "\n",
    "pd.set_option('display.max_columns', 500)"
   ]
  },
  {
   "cell_type": "code",
   "execution_count": 3,
   "metadata": {},
   "outputs": [],
   "source": [
    "# 予測したいデータの読み込み\n",
    "\n",
    "path_test = '../../../../data/extornal/test_processed_clv&churn.csv'\n",
    "\n",
    "test_all = pd.read_csv(path_test)\n",
    "\n",
    "# 特徴量の選択\n",
    "features_all = pd.read_csv('../../../../data/processed/features_52_all.csv')\n"
   ]
  },
  {
   "cell_type": "code",
   "execution_count": 4,
   "metadata": {},
   "outputs": [],
   "source": [
    "# 特徴量の選択\n",
    "pct25 = features_all['importance'].quantile(0.25)\n",
    "pct50 = features_all['importance'].quantile(0.5)\n",
    "pct75 = features_all['importance'].quantile(0.75)"
   ]
  },
  {
   "cell_type": "markdown",
   "metadata": {},
   "source": [
    "上位25％以上"
   ]
  },
  {
   "cell_type": "code",
   "execution_count": 6,
   "metadata": {},
   "outputs": [],
   "source": [
    "features_selected = features_all.query('importance > @pct25').reset_index(drop=True)\n",
    "selected_columns = features_selected['feature'].tolist()\n",
    "selected_columns.insert(0,'card_id')\n",
    "test = test_all[selected_columns]\n"
   ]
  },
  {
   "cell_type": "markdown",
   "metadata": {},
   "source": [
    "## 保存されたモデルを使って予測を行う"
   ]
  },
  {
   "cell_type": "code",
   "execution_count": 7,
   "metadata": {},
   "outputs": [],
   "source": [
    "n_folds = 5\n",
    "predictions = np.zeros(len(test))\n",
    "features = [c for c in test.columns if c not in ['card_id',]]\n",
    "#categorical_feats = ['feature_1','feature_2', 'feature_3','hist_merchant_category_nu','hist_merchant_category_mode','hist_city_nu','hist_city_mode','hist_state_nu','hist_state_mode','hist_category_1_mod','hist_category_2_mod','hist_category_3_mod','new_merchant_category_nu','new_merchant_category_mode','new_city_nu','new_city_mode','new_state_nu','new_state_mode','new_category_1_mod','new_category_2_mod','new_category_3_mod']\n",
    "\n",
    "\n",
    "for fold_ in range(n_folds):\n",
    "    # モデルを読み込む\n",
    "    with open(f'../src/models/lgb_60_25/model_fold_{fold_}.pkl', 'rb') as f:\n",
    "        clf = pickle.load(f)\n",
    "    # モデルで予測を行う\n",
    "    fold_predictions = clf.predict(test[features])\n",
    "    # 予測結果を足し合わせる\n",
    "    predictions += fold_predictions\n",
    "\n",
    "# 平均を取る\n",
    "predictions /= n_folds\n",
    "\n",
    "# RMSEを計算する（テストデータに対して真の値がある場合）\n",
    "# y_testが存在する場合に限り\n",
    "if 'y_test' in locals():\n",
    "    score = mean_squared_error(y_test, predictions, squared=False)\n",
    "    print(f'RMSE={score}')"
   ]
  },
  {
   "cell_type": "code",
   "execution_count": 8,
   "metadata": {},
   "outputs": [
    {
     "name": "stdout",
     "output_type": "stream",
     "text": [
      "[-3.6317271  -0.30971788 -1.29178332 ...  0.84520235 -4.24584668\n",
      "  0.14586472]\n"
     ]
    }
   ],
   "source": [
    "# 予測結果を出力する\n",
    "print(predictions)"
   ]
  },
  {
   "cell_type": "markdown",
   "metadata": {},
   "source": [
    "## 提出用ファイルの作成"
   ]
  },
  {
   "cell_type": "code",
   "execution_count": 9,
   "metadata": {},
   "outputs": [],
   "source": [
    "sub_df = pd.DataFrame({\"card_id\":test[\"card_id\"].values})\n",
    "sub_df[\"target\"] = predictions\n",
    "sub_df.to_csv(\"../submit_oshikiri_60_25.csv\", index=False)"
   ]
  },
  {
   "cell_type": "code",
   "execution_count": 10,
   "metadata": {},
   "outputs": [
    {
     "data": {
      "text/plain": [
       "(array([1.0000e+00, 1.0000e+00, 1.0000e+00, 1.0000e+00, 4.0000e+00,\n",
       "        4.0000e+00, 2.0000e+00, 0.0000e+00, 1.0000e+00, 3.0000e+00,\n",
       "        0.0000e+00, 4.0000e+00, 5.0000e+00, 1.0000e+00, 3.0000e+00,\n",
       "        6.0000e+00, 7.0000e+00, 4.0000e+00, 1.1000e+01, 8.0000e+00,\n",
       "        1.5000e+01, 1.0000e+01, 1.7000e+01, 6.0000e+00, 7.0000e+00,\n",
       "        1.3000e+01, 1.8000e+01, 1.3000e+01, 1.4000e+01, 1.3000e+01,\n",
       "        2.0000e+01, 1.3000e+01, 2.3000e+01, 2.1000e+01, 2.1000e+01,\n",
       "        2.4000e+01, 1.9000e+01, 2.5000e+01, 2.3000e+01, 3.8000e+01,\n",
       "        2.0000e+01, 3.5000e+01, 4.0000e+01, 3.2000e+01, 3.5000e+01,\n",
       "        3.1000e+01, 3.6000e+01, 4.5000e+01, 4.1000e+01, 5.5000e+01,\n",
       "        5.2000e+01, 6.4000e+01, 7.9000e+01, 6.1000e+01, 8.6000e+01,\n",
       "        1.1200e+02, 8.5000e+01, 1.2100e+02, 9.9000e+01, 1.3900e+02,\n",
       "        1.7500e+02, 1.8100e+02, 2.2200e+02, 2.6400e+02, 2.8300e+02,\n",
       "        3.6900e+02, 4.3500e+02, 5.2400e+02, 6.0600e+02, 7.8000e+02,\n",
       "        8.9400e+02, 1.1720e+03, 1.5450e+03, 1.9310e+03, 2.3560e+03,\n",
       "        3.1100e+03, 4.1790e+03, 5.5190e+03, 7.6150e+03, 1.1054e+04,\n",
       "        1.6420e+04, 1.8914e+04, 1.4145e+04, 8.9360e+03, 6.8060e+03,\n",
       "        5.4330e+03, 3.8440e+03, 2.1440e+03, 1.0250e+03, 4.9800e+02,\n",
       "        2.6700e+02, 1.4300e+02, 6.8000e+01, 3.8000e+01, 2.1000e+01,\n",
       "        7.0000e+00, 8.0000e+00, 0.0000e+00, 3.0000e+00, 1.0000e+00]),\n",
       " array([-1.60765272e+01, -1.58805176e+01, -1.56845080e+01, -1.54884984e+01,\n",
       "        -1.52924889e+01, -1.50964793e+01, -1.49004697e+01, -1.47044601e+01,\n",
       "        -1.45084505e+01, -1.43124410e+01, -1.41164314e+01, -1.39204218e+01,\n",
       "        -1.37244122e+01, -1.35284026e+01, -1.33323931e+01, -1.31363835e+01,\n",
       "        -1.29403739e+01, -1.27443643e+01, -1.25483547e+01, -1.23523452e+01,\n",
       "        -1.21563356e+01, -1.19603260e+01, -1.17643164e+01, -1.15683068e+01,\n",
       "        -1.13722973e+01, -1.11762877e+01, -1.09802781e+01, -1.07842685e+01,\n",
       "        -1.05882589e+01, -1.03922494e+01, -1.01962398e+01, -1.00002302e+01,\n",
       "        -9.80422063e+00, -9.60821105e+00, -9.41220147e+00, -9.21619189e+00,\n",
       "        -9.02018231e+00, -8.82417273e+00, -8.62816315e+00, -8.43215357e+00,\n",
       "        -8.23614399e+00, -8.04013441e+00, -7.84412483e+00, -7.64811525e+00,\n",
       "        -7.45210567e+00, -7.25609609e+00, -7.06008651e+00, -6.86407693e+00,\n",
       "        -6.66806735e+00, -6.47205777e+00, -6.27604819e+00, -6.08003861e+00,\n",
       "        -5.88402903e+00, -5.68801945e+00, -5.49200987e+00, -5.29600029e+00,\n",
       "        -5.09999071e+00, -4.90398113e+00, -4.70797155e+00, -4.51196197e+00,\n",
       "        -4.31595239e+00, -4.11994281e+00, -3.92393323e+00, -3.72792365e+00,\n",
       "        -3.53191407e+00, -3.33590449e+00, -3.13989491e+00, -2.94388533e+00,\n",
       "        -2.74787575e+00, -2.55186617e+00, -2.35585659e+00, -2.15984701e+00,\n",
       "        -1.96383743e+00, -1.76782785e+00, -1.57181827e+00, -1.37580869e+00,\n",
       "        -1.17979912e+00, -9.83789535e-01, -7.87779955e-01, -5.91770376e-01,\n",
       "        -3.95760796e-01, -1.99751216e-01, -3.74163607e-03,  1.92267944e-01,\n",
       "         3.88277524e-01,  5.84287103e-01,  7.80296683e-01,  9.76306263e-01,\n",
       "         1.17231584e+00,  1.36832542e+00,  1.56433500e+00,  1.76034458e+00,\n",
       "         1.95635416e+00,  2.15236374e+00,  2.34837332e+00,  2.54438290e+00,\n",
       "         2.74039248e+00,  2.93640206e+00,  3.13241164e+00,  3.32842122e+00,\n",
       "         3.52443080e+00]),\n",
       " <BarContainer object of 100 artists>)"
      ]
     },
     "execution_count": 10,
     "metadata": {},
     "output_type": "execute_result"
    },
    {
     "data": {
      "image/png": "[encoded data removed]",
      "text/plain": [
       "<Figure size 640x480 with 1 Axes>"
      ]
     },
     "metadata": {},
     "output_type": "display_data"
    }
   ],
   "source": [
    "import matplotlib.pyplot as plt\n",
    "#plt.yscale('log')\n",
    "plt.hist(sub_df.target, bins=100)\n",
    "#plt.hist(predictions[predictions<0], bins=100)"
   ]
  },
  {
   "cell_type": "code",
   "execution_count": null,
   "metadata": {},
   "outputs": [],
   "source": []
  },
  {
   "cell_type": "code",
   "execution_count": null,
   "metadata": {},
   "outputs": [],
   "source": []
  },
  {
   "cell_type": "markdown",
   "metadata": {},
   "source": [
    "上位50％以上"
   ]
  },
  {
   "cell_type": "code",
   "execution_count": 11,
   "metadata": {},
   "outputs": [],
   "source": [
    "features_selected = features_all.query('importance > @pct50').reset_index(drop=True)\n",
    "selected_columns = features_selected['feature'].tolist()\n",
    "selected_columns.insert(0,'card_id')\n",
    "test = test_all[selected_columns]"
   ]
  },
  {
   "cell_type": "code",
   "execution_count": 12,
   "metadata": {},
   "outputs": [],
   "source": [
    "n_folds = 5\n",
    "predictions = np.zeros(len(test))\n",
    "features = [c for c in test.columns if c not in ['card_id',]]\n",
    "#categorical_feats = ['feature_1','feature_2', 'feature_3','hist_merchant_category_nu','hist_merchant_category_mode','hist_city_nu','hist_city_mode','hist_state_nu','hist_state_mode','hist_category_1_mod','hist_category_2_mod','hist_category_3_mod','new_merchant_category_nu','new_merchant_category_mode','new_city_nu','new_city_mode','new_state_nu','new_state_mode','new_category_1_mod','new_category_2_mod','new_category_3_mod']\n",
    "\n",
    "\n",
    "for fold_ in range(n_folds):\n",
    "    # モデルを読み込む\n",
    "    with open(f'../src/models/lgb_60_50/model_fold_{fold_}.pkl', 'rb') as f:\n",
    "        clf = pickle.load(f)\n",
    "    # モデルで予測を行う\n",
    "    fold_predictions = clf.predict(test[features])\n",
    "    # 予測結果を足し合わせる\n",
    "    predictions += fold_predictions\n",
    "\n",
    "# 平均を取る\n",
    "predictions /= n_folds\n",
    "\n",
    "# RMSEを計算する（テストデータに対して真の値がある場合）\n",
    "# y_testが存在する場合に限り\n",
    "if 'y_test' in locals():\n",
    "    score = mean_squared_error(y_test, predictions, squared=False)\n",
    "    print(f'RMSE={score}')"
   ]
  },
  {
   "cell_type": "code",
   "execution_count": 13,
   "metadata": {},
   "outputs": [
    {
     "name": "stdout",
     "output_type": "stream",
     "text": [
      "[-3.59283894 -0.29734006 -1.2285459  ...  0.86913905 -4.61950261\n",
      "  0.12443363]\n"
     ]
    }
   ],
   "source": [
    "# 予測結果を出力する\n",
    "print(predictions)"
   ]
  },
  {
   "cell_type": "code",
   "execution_count": 14,
   "metadata": {},
   "outputs": [],
   "source": [
    "sub_df = pd.DataFrame({\"card_id\":test[\"card_id\"].values})\n",
    "sub_df[\"target\"] = predictions\n",
    "sub_df.to_csv(\"../submit_oshikiri_60_50.csv\", index=False)"
   ]
  },
  {
   "cell_type": "code",
   "execution_count": 15,
   "metadata": {},
   "outputs": [
    {
     "data": {
      "text/plain": [
       "(array([3.0000e+00, 6.0000e+00, 0.0000e+00, 1.0000e+00, 0.0000e+00,\n",
       "        1.0000e+00, 1.0000e+00, 2.0000e+00, 4.0000e+00, 2.0000e+00,\n",
       "        4.0000e+00, 4.0000e+00, 5.0000e+00, 3.0000e+00, 3.0000e+00,\n",
       "        5.0000e+00, 9.0000e+00, 1.0000e+01, 7.0000e+00, 1.2000e+01,\n",
       "        1.4000e+01, 7.0000e+00, 8.0000e+00, 1.6000e+01, 1.4000e+01,\n",
       "        1.1000e+01, 1.4000e+01, 1.3000e+01, 9.0000e+00, 1.9000e+01,\n",
       "        2.2000e+01, 2.1000e+01, 2.1000e+01, 1.6000e+01, 2.8000e+01,\n",
       "        1.6000e+01, 1.8000e+01, 3.2000e+01, 3.0000e+01, 3.4000e+01,\n",
       "        3.1000e+01, 3.6000e+01, 3.1000e+01, 3.7000e+01, 3.8000e+01,\n",
       "        3.9000e+01, 2.9000e+01, 3.7000e+01, 5.1000e+01, 5.6000e+01,\n",
       "        7.1000e+01, 6.0000e+01, 7.1000e+01, 8.0000e+01, 9.9000e+01,\n",
       "        1.0100e+02, 9.7000e+01, 1.2000e+02, 1.1600e+02, 1.5000e+02,\n",
       "        1.7700e+02, 2.0600e+02, 2.4800e+02, 2.7000e+02, 3.4900e+02,\n",
       "        3.9700e+02, 4.7100e+02, 5.6600e+02, 6.7900e+02, 8.3500e+02,\n",
       "        1.0110e+03, 1.3510e+03, 1.7210e+03, 2.0810e+03, 2.6630e+03,\n",
       "        3.5010e+03, 4.6310e+03, 6.3410e+03, 8.9780e+03, 1.3289e+04,\n",
       "        1.8180e+04, 1.7549e+04, 1.1255e+04, 7.8180e+03, 6.0920e+03,\n",
       "        4.9050e+03, 3.0720e+03, 1.5800e+03, 7.7500e+02, 3.9700e+02,\n",
       "        2.0900e+02, 1.0500e+02, 5.8000e+01, 3.2000e+01, 1.9000e+01,\n",
       "        6.0000e+00, 5.0000e+00, 4.0000e+00, 1.0000e+00, 1.0000e+00]),\n",
       " array([-15.910046  , -15.71501791, -15.51998982, -15.32496172,\n",
       "        -15.12993363, -14.93490553, -14.73987744, -14.54484935,\n",
       "        -14.34982125, -14.15479316, -13.95976507, -13.76473697,\n",
       "        -13.56970888, -13.37468078, -13.17965269, -12.9846246 ,\n",
       "        -12.7895965 , -12.59456841, -12.39954031, -12.20451222,\n",
       "        -12.00948413, -11.81445603, -11.61942794, -11.42439985,\n",
       "        -11.22937175, -11.03434366, -10.83931556, -10.64428747,\n",
       "        -10.44925938, -10.25423128, -10.05920319,  -9.8641751 ,\n",
       "         -9.669147  ,  -9.47411891,  -9.27909081,  -9.08406272,\n",
       "         -8.88903463,  -8.69400653,  -8.49897844,  -8.30395034,\n",
       "         -8.10892225,  -7.91389416,  -7.71886606,  -7.52383797,\n",
       "         -7.32880988,  -7.13378178,  -6.93875369,  -6.74372559,\n",
       "         -6.5486975 ,  -6.35366941,  -6.15864131,  -5.96361322,\n",
       "         -5.76858513,  -5.57355703,  -5.37852894,  -5.18350084,\n",
       "         -4.98847275,  -4.79344466,  -4.59841656,  -4.40338847,\n",
       "         -4.20836037,  -4.01333228,  -3.81830419,  -3.62327609,\n",
       "         -3.428248  ,  -3.23321991,  -3.03819181,  -2.84316372,\n",
       "         -2.64813562,  -2.45310753,  -2.25807944,  -2.06305134,\n",
       "         -1.86802325,  -1.67299516,  -1.47796706,  -1.28293897,\n",
       "         -1.08791087,  -0.89288278,  -0.69785469,  -0.50282659,\n",
       "         -0.3077985 ,  -0.1127704 ,   0.08225769,   0.27728578,\n",
       "          0.47231388,   0.66734197,   0.86237006,   1.05739816,\n",
       "          1.25242625,   1.44745435,   1.64248244,   1.83751053,\n",
       "          2.03253863,   2.22756672,   2.42259481,   2.61762291,\n",
       "          2.812651  ,   3.0076791 ,   3.20270719,   3.39773528,\n",
       "          3.59276338]),\n",
       " <BarContainer object of 100 artists>)"
      ]
     },
     "execution_count": 15,
     "metadata": {},
     "output_type": "execute_result"
    },
    {
     "data": {
      "image/png": "[encoded data removed]",
      "text/plain": [
       "<Figure size 640x480 with 1 Axes>"
      ]
     },
     "metadata": {},
     "output_type": "display_data"
    }
   ],
   "source": [
    "import matplotlib.pyplot as plt\n",
    "#plt.yscale('log')\n",
    "plt.hist(sub_df.target, bins=100)\n",
    "#plt.hist(predictions[predictions<0], bins=100)"
   ]
  },
  {
   "cell_type": "markdown",
   "metadata": {},
   "source": [
    "上位75％以上"
   ]
  },
  {
   "cell_type": "code",
   "execution_count": 16,
   "metadata": {},
   "outputs": [],
   "source": [
    "features_selected = features_all.query('importance > @pct75').reset_index(drop=True)\n",
    "selected_columns = features_selected['feature'].tolist()\n",
    "selected_columns.insert(0,'card_id')\n",
    "test = test_all[selected_columns]\n"
   ]
  },
  {
   "cell_type": "code",
   "execution_count": 17,
   "metadata": {},
   "outputs": [],
   "source": [
    "n_folds = 5\n",
    "predictions = np.zeros(len(test))\n",
    "features = [c for c in test.columns if c not in ['card_id',]]\n",
    "#categorical_feats = ['feature_1','feature_2', 'feature_3','hist_merchant_category_nu','hist_merchant_category_mode','hist_city_nu','hist_city_mode','hist_state_nu','hist_state_mode','hist_category_1_mod','hist_category_2_mod','hist_category_3_mod','new_merchant_category_nu','new_merchant_category_mode','new_city_nu','new_city_mode','new_state_nu','new_state_mode','new_category_1_mod','new_category_2_mod','new_category_3_mod']\n",
    "\n",
    "\n",
    "for fold_ in range(n_folds):\n",
    "    # モデルを読み込む\n",
    "    with open(f'../src/models/lgb_60_75/model_fold_{fold_}.pkl', 'rb') as f:\n",
    "        clf = pickle.load(f)\n",
    "    # モデルで予測を行う\n",
    "    fold_predictions = clf.predict(test[features])\n",
    "    # 予測結果を足し合わせる\n",
    "    predictions += fold_predictions\n",
    "\n",
    "# 平均を取る\n",
    "predictions /= n_folds\n",
    "\n",
    "# RMSEを計算する（テストデータに対して真の値がある場合）\n",
    "# y_testが存在する場合に限り\n",
    "if 'y_test' in locals():\n",
    "    score = mean_squared_error(y_test, predictions, squared=False)\n",
    "    print(f'RMSE={score}')"
   ]
  },
  {
   "cell_type": "code",
   "execution_count": 18,
   "metadata": {},
   "outputs": [
    {
     "name": "stdout",
     "output_type": "stream",
     "text": [
      "[-3.3898978  -0.25633319 -1.27590792 ...  0.93566439 -4.85134978\n",
      "  0.07177385]\n"
     ]
    }
   ],
   "source": [
    "# 予測結果を出力する\n",
    "print(predictions)"
   ]
  },
  {
   "cell_type": "code",
   "execution_count": 19,
   "metadata": {},
   "outputs": [],
   "source": [
    "sub_df = pd.DataFrame({\"card_id\":test[\"card_id\"].values})\n",
    "sub_df[\"target\"] = predictions\n",
    "sub_df.to_csv(\"../submit_oshikiri_60_75.csv\", index=False)"
   ]
  },
  {
   "cell_type": "code",
   "execution_count": 20,
   "metadata": {},
   "outputs": [
    {
     "data": {
      "text/plain": [
       "(array([1.0000e+00, 0.0000e+00, 0.0000e+00, 0.0000e+00, 2.0000e+00,\n",
       "        0.0000e+00, 2.0000e+00, 1.0000e+00, 0.0000e+00, 0.0000e+00,\n",
       "        3.0000e+00, 2.0000e+00, 4.0000e+00, 4.0000e+00, 4.0000e+00,\n",
       "        4.0000e+00, 4.0000e+00, 9.0000e+00, 7.0000e+00, 4.0000e+00,\n",
       "        7.0000e+00, 7.0000e+00, 9.0000e+00, 1.3000e+01, 8.0000e+00,\n",
       "        1.3000e+01, 4.0000e+00, 1.3000e+01, 2.3000e+01, 8.0000e+00,\n",
       "        1.4000e+01, 1.1000e+01, 1.7000e+01, 2.2000e+01, 2.3000e+01,\n",
       "        2.2000e+01, 1.3000e+01, 2.2000e+01, 2.8000e+01, 2.8000e+01,\n",
       "        2.4000e+01, 2.7000e+01, 3.9000e+01, 3.9000e+01, 3.3000e+01,\n",
       "        3.5000e+01, 3.4000e+01, 4.1000e+01, 3.3000e+01, 4.3000e+01,\n",
       "        6.1000e+01, 5.2000e+01, 4.9000e+01, 5.7000e+01, 5.2000e+01,\n",
       "        8.1000e+01, 9.5000e+01, 8.5000e+01, 1.0100e+02, 1.1000e+02,\n",
       "        1.4300e+02, 1.5600e+02, 1.6200e+02, 1.8700e+02, 2.2800e+02,\n",
       "        2.5400e+02, 3.4400e+02, 4.2200e+02, 4.6500e+02, 6.0600e+02,\n",
       "        6.6400e+02, 8.6700e+02, 1.0630e+03, 1.4390e+03, 1.7430e+03,\n",
       "        2.2660e+03, 2.9170e+03, 3.7760e+03, 5.1120e+03, 7.1500e+03,\n",
       "        1.0256e+04, 1.5643e+04, 1.9484e+04, 1.5815e+04, 9.6300e+03,\n",
       "        7.2100e+03, 5.9670e+03, 4.2540e+03, 2.1310e+03, 9.4100e+02,\n",
       "        4.4600e+02, 2.2600e+02, 9.9000e+01, 6.7000e+01, 1.8000e+01,\n",
       "        1.5000e+01, 4.0000e+00, 2.0000e+00, 3.0000e+00, 1.0000e+00]),\n",
       " array([-16.74927615, -16.54795511, -16.34663407, -16.14531303,\n",
       "        -15.94399199, -15.74267095, -15.54134991, -15.34002887,\n",
       "        -15.13870783, -14.93738679, -14.73606575, -14.53474471,\n",
       "        -14.33342367, -14.13210263, -13.93078159, -13.72946055,\n",
       "        -13.52813951, -13.32681847, -13.12549743, -12.92417639,\n",
       "        -12.72285535, -12.52153431, -12.32021327, -12.11889223,\n",
       "        -11.91757119, -11.71625015, -11.51492911, -11.31360807,\n",
       "        -11.11228703, -10.91096599, -10.70964495, -10.50832391,\n",
       "        -10.30700287, -10.10568183,  -9.90436079,  -9.70303975,\n",
       "         -9.50171871,  -9.30039767,  -9.09907663,  -8.89775559,\n",
       "         -8.69643455,  -8.49511351,  -8.29379247,  -8.09247143,\n",
       "         -7.89115039,  -7.68982935,  -7.48850831,  -7.28718727,\n",
       "         -7.08586623,  -6.88454519,  -6.68322415,  -6.48190311,\n",
       "         -6.28058207,  -6.07926103,  -5.87793999,  -5.67661895,\n",
       "         -5.47529791,  -5.27397687,  -5.07265583,  -4.87133479,\n",
       "         -4.67001375,  -4.46869272,  -4.26737168,  -4.06605064,\n",
       "         -3.8647296 ,  -3.66340856,  -3.46208752,  -3.26076648,\n",
       "         -3.05944544,  -2.8581244 ,  -2.65680336,  -2.45548232,\n",
       "         -2.25416128,  -2.05284024,  -1.8515192 ,  -1.65019816,\n",
       "         -1.44887712,  -1.24755608,  -1.04623504,  -0.844914  ,\n",
       "         -0.64359296,  -0.44227192,  -0.24095088,  -0.03962984,\n",
       "          0.1616912 ,   0.36301224,   0.56433328,   0.76565432,\n",
       "          0.96697536,   1.1682964 ,   1.36961744,   1.57093848,\n",
       "          1.77225952,   1.97358056,   2.1749016 ,   2.37622264,\n",
       "          2.57754368,   2.77886472,   2.98018576,   3.1815068 ,\n",
       "          3.38282784]),\n",
       " <BarContainer object of 100 artists>)"
      ]
     },
     "execution_count": 20,
     "metadata": {},
     "output_type": "execute_result"
    },
    {
     "data": {
      "image/png": "[encoded data removed]",
      "text/plain": [
       "<Figure size 640x480 with 1 Axes>"
      ]
     },
     "metadata": {},
     "output_type": "display_data"
    }
   ],
   "source": [
    "import matplotlib.pyplot as plt\n",
    "#plt.yscale('log')\n",
    "plt.hist(sub_df.target, bins=100)\n",
    "#plt.hist(predictions[predictions<0], bins=100)"
   ]
  },
  {
   "cell_type": "code",
   "execution_count": null,
   "metadata": {},
   "outputs": [],
   "source": []
  },
  {
   "cell_type": "markdown",
   "metadata": {},
   "source": []
  },
  {
   "cell_type": "code",
   "execution_count": 21,
   "metadata": {},
   "outputs": [],
   "source": [
    "# 特徴量の選択\n",
    "pct30 = features_all['importance'].quantile(0.3)\n",
    "pct40 = features_all['importance'].quantile(0.4)"
   ]
  },
  {
   "cell_type": "code",
   "execution_count": 23,
   "metadata": {},
   "outputs": [],
   "source": [
    "features_selected = features_all.query('importance > @pct30').reset_index(drop=True)\n",
    "selected_columns = features_selected['feature'].tolist()\n",
    "selected_columns.insert(0,'card_id')\n",
    "test = test_all[selected_columns]\n"
   ]
  },
  {
   "cell_type": "code",
   "execution_count": 24,
   "metadata": {},
   "outputs": [],
   "source": [
    "n_folds = 5\n",
    "predictions = np.zeros(len(test))\n",
    "features = [c for c in test.columns if c not in ['card_id',]]\n",
    "#categorical_feats = ['feature_1','feature_2', 'feature_3','hist_merchant_category_nu','hist_merchant_category_mode','hist_city_nu','hist_city_mode','hist_state_nu','hist_state_mode','hist_category_1_mod','hist_category_2_mod','hist_category_3_mod','new_merchant_category_nu','new_merchant_category_mode','new_city_nu','new_city_mode','new_state_nu','new_state_mode','new_category_1_mod','new_category_2_mod','new_category_3_mod']\n",
    "\n",
    "\n",
    "for fold_ in range(n_folds):\n",
    "    # モデルを読み込む\n",
    "    with open(f'../src/models/lgb_60_30/model_fold_{fold_}.pkl', 'rb') as f:\n",
    "        clf = pickle.load(f)\n",
    "    # モデルで予測を行う\n",
    "    fold_predictions = clf.predict(test[features])\n",
    "    # 予測結果を足し合わせる\n",
    "    predictions += fold_predictions\n",
    "\n",
    "# 平均を取る\n",
    "predictions /= n_folds\n",
    "\n",
    "# RMSEを計算する（テストデータに対して真の値がある場合）\n",
    "# y_testが存在する場合に限り\n",
    "if 'y_test' in locals():\n",
    "    score = mean_squared_error(y_test, predictions, squared=False)\n",
    "    print(f'RMSE={score}')"
   ]
  },
  {
   "cell_type": "code",
   "execution_count": 25,
   "metadata": {},
   "outputs": [
    {
     "name": "stdout",
     "output_type": "stream",
     "text": [
      "[-3.75120694 -0.34609868 -1.23659699 ...  0.8860432  -4.34454534\n",
      "  0.10147764]\n"
     ]
    }
   ],
   "source": [
    "# 予測結果を出力する\n",
    "print(predictions)"
   ]
  },
  {
   "cell_type": "code",
   "execution_count": 26,
   "metadata": {},
   "outputs": [],
   "source": [
    "sub_df = pd.DataFrame({\"card_id\":test[\"card_id\"].values})\n",
    "sub_df[\"target\"] = predictions\n",
    "sub_df.to_csv(\"../submit_oshikiri_60_30.csv\", index=False)"
   ]
  },
  {
   "cell_type": "markdown",
   "metadata": {},
   "source": [
    "上位40％以上"
   ]
  },
  {
   "cell_type": "code",
   "execution_count": 27,
   "metadata": {},
   "outputs": [],
   "source": [
    "features_selected = features_all.query('importance > @pct40').reset_index(drop=True)\n",
    "selected_columns = features_selected['feature'].tolist()\n",
    "selected_columns.insert(0,'card_id')\n",
    "test = test_all[selected_columns]\n"
   ]
  },
  {
   "cell_type": "code",
   "execution_count": 28,
   "metadata": {},
   "outputs": [],
   "source": [
    "n_folds = 5\n",
    "predictions = np.zeros(len(test))\n",
    "features = [c for c in test.columns if c not in ['card_id',]]\n",
    "#categorical_feats = ['feature_1','feature_2', 'feature_3','hist_merchant_category_nu','hist_merchant_category_mode','hist_city_nu','hist_city_mode','hist_state_nu','hist_state_mode','hist_category_1_mod','hist_category_2_mod','hist_category_3_mod','new_merchant_category_nu','new_merchant_category_mode','new_city_nu','new_city_mode','new_state_nu','new_state_mode','new_category_1_mod','new_category_2_mod','new_category_3_mod']\n",
    "\n",
    "\n",
    "for fold_ in range(n_folds):\n",
    "    # モデルを読み込む\n",
    "    with open(f'../src/models/lgb_60_40/model_fold_{fold_}.pkl', 'rb') as f:\n",
    "        clf = pickle.load(f)\n",
    "    # モデルで予測を行う\n",
    "    fold_predictions = clf.predict(test[features])\n",
    "    # 予測結果を足し合わせる\n",
    "    predictions += fold_predictions\n",
    "\n",
    "# 平均を取る\n",
    "predictions /= n_folds\n",
    "\n",
    "# RMSEを計算する（テストデータに対して真の値がある場合）\n",
    "# y_testが存在する場合に限り\n",
    "if 'y_test' in locals():\n",
    "    score = mean_squared_error(y_test, predictions, squared=False)\n",
    "    print(f'RMSE={score}')"
   ]
  },
  {
   "cell_type": "code",
   "execution_count": 29,
   "metadata": {},
   "outputs": [
    {
     "name": "stdout",
     "output_type": "stream",
     "text": [
      "[-3.59132834 -0.31419281 -1.20758046 ...  0.8678978  -4.38871296\n",
      "  0.12303485]\n"
     ]
    }
   ],
   "source": [
    "# 予測結果を出力する\n",
    "print(predictions)"
   ]
  },
  {
   "cell_type": "code",
   "execution_count": 30,
   "metadata": {},
   "outputs": [],
   "source": [
    "sub_df = pd.DataFrame({\"card_id\":test[\"card_id\"].values})\n",
    "sub_df[\"target\"] = predictions\n",
    "sub_df.to_csv(\"../submit_oshikiri_60_40.csv\", index=False)"
   ]
  },
  {
   "cell_type": "code",
   "execution_count": null,
   "metadata": {},
   "outputs": [],
   "source": []
  },
  {
   "cell_type": "code",
   "execution_count": 31,
   "metadata": {},
   "outputs": [
    {
     "name": "stdout",
     "output_type": "stream",
     "text": [
      "[-3.62785453 -0.31073594 -1.20606209 ...  0.85656907 -4.38641111\n",
      "  0.13061701]\n",
      "[-3.54927747 -0.31713876 -1.17921014 ...  0.88337884 -4.29239759\n",
      "  0.1335193 ]\n"
     ]
    }
   ],
   "source": [
    "for i in [26,27]:\n",
    "    pct = features_all['importance'].quantile(i/100)\n",
    "    features_selected = features_all.query('importance > @pct').reset_index(drop=True)\n",
    "    selected_columns = features_selected['feature'].tolist()\n",
    "    selected_columns.insert(0,'card_id')\n",
    "    test = test_all[selected_columns]\n",
    "\n",
    "    n_folds = 5\n",
    "    predictions = np.zeros(len(test))\n",
    "    features = [c for c in test.columns if c not in ['card_id',]]\n",
    "\n",
    "\n",
    "    for fold_ in range(n_folds):\n",
    "        # モデルを読み込む\n",
    "        with open(f'../src/models/lgb_60_{i}/model_fold_{fold_}.pkl', 'rb') as f:\n",
    "            clf = pickle.load(f)\n",
    "        # モデルで予測を行う\n",
    "        fold_predictions = clf.predict(test[features])\n",
    "        # 予測結果を足し合わせる\n",
    "        predictions += fold_predictions\n",
    "\n",
    "    # 平均を取る\n",
    "    predictions /= n_folds\n",
    "    # 予測結果を出力する\n",
    "    print(predictions)\n",
    "\n",
    "    sub_df = pd.DataFrame({\"card_id\":test[\"card_id\"].values})\n",
    "    sub_df[\"target\"] = predictions\n",
    "    sub_df.to_csv(f\"../submit_oshikiri_60_{i}.csv\", index=False)"
   ]
  }
 ],
 "metadata": {
  "kernelspec": {
   "display_name": "Python 3",
   "language": "python",
   "name": "python3"
  },
  "language_info": {
   "codemirror_mode": {
    "name": "ipython",
    "version": 3
   },
   "file_extension": ".py",
   "mimetype": "text/x-python",
   "name": "python",
   "nbconvert_exporter": "python",
   "pygments_lexer": "ipython3",
   "version": "3.12.4"
  }
 },
 "nbformat": 4,
 "nbformat_minor": 2
}
