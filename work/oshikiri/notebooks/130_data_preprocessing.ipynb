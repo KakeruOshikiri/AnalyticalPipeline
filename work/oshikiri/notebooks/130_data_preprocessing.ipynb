{
 "cells": [
  {
   "cell_type": "markdown",
   "metadata": {},
   "source": [
    "hist, new, total, new/hist で特徴量作成\n",
    "\n",
    "https://www.kaggle.com/code/raddar/target-true-meaning-revealed\n",
    "\n",
    "2**target\n",
    "\n",
    "amountを調整\n",
    "\n",
    "np.round(df['purchase_amount'] / 0.00150265118 + 497.06)"
   ]
  },
  {
   "cell_type": "code",
   "execution_count": 1,
   "metadata": {},
   "outputs": [],
   "source": [
    "import warnings\n",
    "import time\n",
    "import sys\n",
    "import datetime\n",
    "import pickle\n",
    "import os\n",
    "\n",
    "import numpy as np\n",
    "import pandas as pd\n",
    "import matplotlib.pyplot as plt\n",
    "import seaborn as sns\n",
    "import lightgbm as lgb\n",
    "from sklearn.model_selection import KFold\n",
    "from sklearn.metrics import mean_squared_error\n",
    "\n",
    "warnings.simplefilter(action='ignore', category=FutureWarning)\n",
    "pd.set_option('display.max_columns', 500)\n",
    "\n",
    "%matplotlib inline"
   ]
  },
  {
   "cell_type": "code",
   "execution_count": 2,
   "metadata": {},
   "outputs": [],
   "source": [
    "def reduce_mem_usage(df, verbose=True):\n",
    "    numerics = ['int16', 'int32', 'int64', 'float16', 'float32', 'float64']\n",
    "    start_mem = df.memory_usage().sum() / 1024**2\n",
    "    for col in df.columns:\n",
    "        col_type = df[col].dtypes\n",
    "        if col_type in numerics:\n",
    "            c_min = df[col].min()\n",
    "            c_max = df[col].max()\n",
    "            if str(col_type)[:3] == 'int':\n",
    "                if c_min > np.iinfo(np.int8).min and c_max < np.iinfo(np.int8).max:\n",
    "                    df[col] = df[col].astype(np.int8)\n",
    "                elif c_min > np.iinfo(np.int16).min and c_max < np.iinfo(np.int16).max:\n",
    "                    df[col] = df[col].astype(np.int16)\n",
    "                elif c_min > np.iinfo(np.int32).min and c_max < np.iinfo(np.int32).max:\n",
    "                    df[col] = df[col].astype(np.int32)\n",
    "                elif c_min > np.iinfo(np.int64).min and c_max < np.iinfo(np.int64).max:\n",
    "                    df[col] = df[col].astype(np.int64)\n",
    "            else:\n",
    "                if c_min > np.finfo(np.float16).min and c_max < np.finfo(np.float16).max:\n",
    "                    df[col] = df[col].astype(np.float16)\n",
    "                elif c_min > np.finfo(np.float32).min and c_max < np.finfo(np.float32).max:\n",
    "                    df[col] = df[col].astype(np.float32)\n",
    "                else:\n",
    "                    df[col] = df[col].astype(np.float64)\n",
    "    end_mem = df.memory_usage().sum() / 1024**2\n",
    "    if verbose: print('Mem. usage decreased to {:5.2f} Mb ({:.1f}% reduction)'.format(end_mem, 100 * (start_mem - end_mem) / start_mem))\n",
    "    return df"
   ]
  },
  {
   "cell_type": "code",
   "execution_count": 3,
   "metadata": {},
   "outputs": [],
   "source": [
    "def preprocessing(df):\n",
    "    for col in ['authorized_flag', 'category_1']:\n",
    "        df[col] = df[col].map({'Y':1, 'N':0})\n",
    "    for col in ['category_3']:\n",
    "        df[col] = df[col].map({'A':1, 'B':2,'C':3})\n",
    "    return df\n",
    "\n",
    "def read_data(input_file):\n",
    "    df = pd.read_csv(input_file)\n",
    "    df['first_active_month'] = pd.to_datetime(df['first_active_month'])\n",
    "    df['elapsed_time'] = (pd.Timestamp('2018-02-01') - df['first_active_month']).dt.days\n",
    "    return df"
   ]
  },
  {
   "cell_type": "code",
   "execution_count": 4,
   "metadata": {},
   "outputs": [
    {
     "name": "stdout",
     "output_type": "stream",
     "text": [
      "Mem. usage decreased to 76.76 Mb (63.4% reduction)\n",
      "Mem. usage decreased to 1193.84 Mb (61.6% reduction)\n"
     ]
    }
   ],
   "source": [
    "# データの読み込み\n",
    "path_new = '../../../../data/raw/new_merchant_transactions.csv'\n",
    "path_hist = '../../../../data/raw/historical_transactions.csv'\n",
    "path_train = '../../../../data/raw/train.csv'\n",
    "path_test = '../../../../data/raw/test.csv'\n",
    "\n",
    "new = pd.read_csv(path_new, parse_dates=['purchase_date'])\n",
    "hist = pd.read_csv(path_hist ,parse_dates=['purchase_date'])\n",
    "\n",
    "new = preprocessing(new)\n",
    "hist = preprocessing(hist)\n",
    "\n",
    "new = reduce_mem_usage(new)\n",
    "hist = reduce_mem_usage(hist)\n",
    "\n",
    "train = pd.read_csv(path_train, parse_dates=['first_active_month'])\n",
    "test = pd.read_csv(path_test, parse_dates=['first_active_month'])\n",
    "\n",
    "target = train['target']\n",
    "#del train['target']"
   ]
  },
  {
   "cell_type": "code",
   "execution_count": 21,
   "metadata": {},
   "outputs": [],
   "source": [
    "train = pd.read_csv(path_train, parse_dates=['first_active_month'])\n",
    "test = pd.read_csv(path_test, parse_dates=['first_active_month'])"
   ]
  },
  {
   "cell_type": "markdown",
   "metadata": {},
   "source": [
    "## train, test 処理"
   ]
  },
  {
   "cell_type": "code",
   "execution_count": 22,
   "metadata": {},
   "outputs": [],
   "source": [
    "#train['target'] = 2**train['target']"
   ]
  },
  {
   "cell_type": "code",
   "execution_count": 5,
   "metadata": {},
   "outputs": [],
   "source": [
    "test_null_id = test[test.first_active_month.isna()].card_id.iloc[-1]\n",
    "null_month = hist[hist.card_id == test_null_id].purchase_date.dt.strftime(\"%Y-%m-01\").min()\n",
    "test.fillna({'first_active_month':null_month},inplace=True)"
   ]
  },
  {
   "cell_type": "code",
   "execution_count": 6,
   "metadata": {},
   "outputs": [],
   "source": [
    "for df in [test, train]:\n",
    "    # https://www.kaggle.com/code/mfjwr1/simple-lightgbm-without-blending\n",
    "    df['elapsed_time'] = (pd.Timestamp('2018-02-01') - df['first_active_month']).dt.days\n",
    "    df['quarter'] = df['first_active_month'].dt.quarter\n",
    "    df['days_feature1'] = df['elapsed_time'] * df['feature_1']\n",
    "    df['days_feature2'] = df['elapsed_time'] * df['feature_2']\n",
    "    df['days_feature3'] = df['elapsed_time'] * df['feature_3']\n",
    "    df['days_feature1_ratio'] = df['feature_1'] / df['elapsed_time']\n",
    "    df['days_feature2_ratio'] = df['feature_2'] / df['elapsed_time']\n",
    "    df['days_feature3_ratio'] = df['feature_3'] / df['elapsed_time']\n",
    "    df['feature_sum'] = df['feature_1'] + df['feature_2'] + df['feature_3']\n",
    "    df['feature_mean'] = df['feature_sum']/3\n",
    "    df['feature_max'] = df[['feature_1', 'feature_2', 'feature_3']].max(axis=1)\n",
    "    df['feature_min'] = df[['feature_1', 'feature_2', 'feature_3']].min(axis=1)\n",
    "    df['feature_var'] = df[['feature_1', 'feature_2', 'feature_3']].std(axis=1)"
   ]
  },
  {
   "cell_type": "code",
   "execution_count": 7,
   "metadata": {},
   "outputs": [],
   "source": [
    "for df in [test,train]:\n",
    "    df['first_active_month']  = (df['first_active_month'] - df['first_active_month'].min()).dt.days"
   ]
  },
  {
   "cell_type": "markdown",
   "metadata": {},
   "source": [
    "## 特徴量作成"
   ]
  },
  {
   "cell_type": "code",
   "execution_count": 8,
   "metadata": {},
   "outputs": [],
   "source": [
    "for df in [hist, new]:\n",
    "    df['purchase_amount'] = np.round(df['purchase_amount'] / 0.00150265118 + 497.06)"
   ]
  },
  {
   "cell_type": "code",
   "execution_count": 11,
   "metadata": {},
   "outputs": [],
   "source": [
    "for df in [hist, new]:\n",
    "    df['category_2'].fillna(1,inplace=True) # 1が最頻値\n",
    "    df['category_3'].fillna(1,inplace=True) # 1が最頻値\n",
    "    df['merchant_id'].fillna('M_ID_00a6ca8a8a',inplace=True) # 最頻値\n",
    "\n",
    "    # https://www.kaggle.com/code/mfjwr1/simple-lightgbm-without-blending\n",
    "    df['installments'].replace(-1, np.nan,inplace=True)\n",
    "    df['installments'].replace(999, np.nan,inplace=True)\n",
    "    df['purchase_date'] = pd.to_datetime(df['purchase_date'])\n",
    "    df['month'] = df['purchase_date'].dt.month\n",
    "    df['day'] = df['purchase_date'].dt.day\n",
    "    df['hour'] = df['purchase_date'].dt.hour\n",
    "    #df['weekofyear'] = df['purchase_date'].dt.weekofyear\n",
    "    df['weekday'] = df['purchase_date'].dt.weekday\n",
    "    df['weekend'] = (df['purchase_date'].dt.weekday >=5).astype(int)\n",
    "    # additional features\n",
    "    df['price'] = df['purchase_amount'] / df['installments']\n",
    "    # additional features\n",
    "    df['month_diff'] = ((datetime.datetime.today() - df['purchase_date']).dt.days)//30\n",
    "    df['month_diff'] += df['month_lag']\n",
    "    df['duration'] = df['purchase_amount']*df['month_diff']\n",
    "    df['amount_month_ratio'] = df['purchase_amount']/df['month_diff']"
   ]
  },
  {
   "cell_type": "code",
   "execution_count": 23,
   "metadata": {},
   "outputs": [
    {
     "name": "stdout",
     "output_type": "stream",
     "text": [
      "<class 'pandas.core.frame.DataFrame'>\n",
      "RangeIndex: 29112361 entries, 0 to 29112360\n",
      "Data columns (total 23 columns):\n",
      " #   Column                Dtype         \n",
      "---  ------                -----         \n",
      " 0   authorized_flag       int8          \n",
      " 1   card_id               object        \n",
      " 2   city_id               int16         \n",
      " 3   category_1            int8          \n",
      " 4   installments          float64       \n",
      " 5   category_3            float16       \n",
      " 6   merchant_category_id  int16         \n",
      " 7   merchant_id           object        \n",
      " 8   month_lag             int8          \n",
      " 9   purchase_amount       float32       \n",
      " 10  purchase_date         datetime64[ns]\n",
      " 11  category_2            float16       \n",
      " 12  state_id              int8          \n",
      " 13  subsector_id          int8          \n",
      " 14  month                 int32         \n",
      " 15  day                   int32         \n",
      " 16  hour                  int32         \n",
      " 17  weekday               int32         \n",
      " 18  weekend               int32         \n",
      " 19  price                 float64       \n",
      " 20  month_diff            int64         \n",
      " 21  duration              float64       \n",
      " 22  amount_month_ratio    float64       \n",
      "dtypes: datetime64[ns](1), float16(2), float32(1), float64(4), int16(2), int32(5), int64(1), int8(5), object(2)\n",
      "memory usage: 2.7+ GB\n"
     ]
    }
   ],
   "source": [
    "hist.info()"
   ]
  },
  {
   "cell_type": "code",
   "execution_count": 12,
   "metadata": {},
   "outputs": [],
   "source": [
    "# 承認フラグ　Yes,Noの数と比\n",
    "# histのみ（newはYesのみのため）\n",
    "authorized_flag = hist[['card_id','authorized_flag']].groupby(['card_id','authorized_flag']).agg(count=('card_id','count')).reset_index()\n",
    "\n",
    "# カードIDごとの合計を計算\n",
    "total_counts = authorized_flag.groupby('card_id')['count'].sum().reset_index()\n",
    "total_counts = total_counts.rename(columns={'count': 'total_count'})\n",
    "\n",
    "# 元のデータと合計を結合\n",
    "authorized_flag = authorized_flag.merge(total_counts, on='card_id')\n",
    "\n",
    "# 割合を計算\n",
    "authorized_flag['ratio'] = authorized_flag['count'] / authorized_flag['total_count']\n",
    "#hist[['card_id','authorized_flag']].groupby(['card_id']).agg(count=('authorized_flag','mean')).reset_index()\n",
    "\n",
    "# 結果を整形\n",
    "authorized_ratio = authorized_flag.pivot(index='card_id', columns='authorized_flag', values=['ratio','count']).reset_index().rename(columns={0: 'No', 1: 'Yes'})\n",
    "authorized_ratio.columns = ['_'.join(col).strip() for col in authorized_ratio.columns.values]\n",
    "authorized_ratio.rename(columns={'card_id_': 'card_id'},inplace=True)"
   ]
  },
  {
   "cell_type": "code",
   "execution_count": 13,
   "metadata": {},
   "outputs": [],
   "source": [
    "total = pd.concat([hist,new],axis=0).reset_index(drop=True)"
   ]
  },
  {
   "cell_type": "code",
   "execution_count": 25,
   "metadata": {},
   "outputs": [
    {
     "ename": "SyntaxError",
     "evalue": "keyword argument repeated: duration_min (1594081718.py, line 40)",
     "output_type": "error",
     "traceback": [
      "\u001b[1;36m  Cell \u001b[1;32mIn[25], line 40\u001b[1;36m\u001b[0m\n\u001b[1;33m    duration_min = ('duration', 'min'),\u001b[0m\n\u001b[1;37m    ^\u001b[0m\n\u001b[1;31mSyntaxError\u001b[0m\u001b[1;31m:\u001b[0m keyword argument repeated: duration_min\n"
     ]
    }
   ],
   "source": [
    "for df in [hist, new, total]:\n",
    "    df_tmp = df.groupby('card_id',as_index=False)\\\n",
    "        .agg(\n",
    "            frequency = ('card_id','count'),\n",
    "            amount_total = ('purchase_amount','sum'),\n",
    "            amount_mean = ('purchase_amount','mean'),\n",
    "            amount_max = ('purchase_amount','max'),\n",
    "            amount_min = ('purchase_amount','min'),\n",
    "            amount_median = ('purchase_amount','median'),\n",
    "            merchant_category_nu = ('merchant_category_id','nunique'),\n",
    "            merchant_category_mode = ('merchant_category_id',lambda x: x.mode()[0]),\n",
    "            city_nu = ('city_id','nunique'),\n",
    "            city_mode = ('city_id',lambda x: x.mode()[0]),\n",
    "            state_nu = ('state_id','nunique'),\n",
    "            state_mode = ('state_id',lambda x: x.mode()[0]),\n",
    "            date_min  = ('purchase_date','min'),\n",
    "            date_max  = ('purchase_date','max'),\n",
    "            installments_mean = ('installments','mean'),\n",
    "            installments_max = ('installments','max'),\n",
    "            installments_min = ('installments','min'),\n",
    "            installments_median = ('installments','median'),\n",
    "            installments_sum = ('installments','sum'),\n",
    "            month_lag_mean = ('month_lag','mean'),\n",
    "            month_lag_max = ('month_lag','max'),\n",
    "            month_lag_min = ('month_lag','min'),\n",
    "            month_lag_median = ('month_lag','median'),\n",
    "            category_1_mod = ('category_1',lambda x: x.mode()[0]),\n",
    "            category_2_mod = ('category_2',lambda x: x.mode()[0]),\n",
    "            category_3_mod = ('category_3',lambda x: x.mode()[0]),\n",
    "            # additional\n",
    "            weekend_mean = ('weekend', 'mean'),\n",
    "            weekday_mean = ('weekday', 'mean'),\n",
    "            day_nu = ('day', 'nunique'),\n",
    "            day_min = ('day', 'min'),\n",
    "            day_max = ('day', 'max'),\n",
    "            price_sum = ('price', 'sum'),\n",
    "            price_min = ('price', 'min'),\n",
    "            price_max = ('price', 'max'),\n",
    "            price_mean = ('price', 'mean'),\n",
    "            duration_min = ('duration', 'min'),\n",
    "            duration_max = ('duration', 'max'),\n",
    "            duration_mean = ('duration', 'mean'),\n",
    "            amount_month_ratio_min = ('amount_month_ratio', 'min'),\n",
    "            amount_month_ratio_max = ('amount_month_ratio', 'max'),\n",
    "            amount_month_ratio_mean = ('amount_month_ratio', 'mean')\n",
    "        )\n",
    "\n",
    "    df_tmp['duration'] = (df_tmp['date_max'] - df_tmp['date_min']).dt.days\n",
    "    df_tmp.date_max = (df_tmp.date_max - df_tmp.date_min.min()).dt.days\n",
    "    df_tmp.date_min = (df_tmp.date_min - df_tmp.date_min.min()).dt.days\n",
    "\n",
    "    df_tmp.merchant_category_mode = pd.to_numeric(df_tmp.merchant_category_mode, errors='coerce')\n",
    "    if df == hist:\n",
    "        df_tmp = df_tmp.merge(authorized_ratio,on='card_id')\n",
    "        df_tmp.columns = ['hist_' + col if col != 'card_id' else col for col in df_tmp.columns]"
   ]
  },
  {
   "cell_type": "code",
   "execution_count": 26,
   "metadata": {},
   "outputs": [],
   "source": [
    "hist_id_u = hist.groupby('card_id',as_index=False)\\\n",
    "    .agg(\n",
    "        frequency = ('card_id','count'),\n",
    "        amount_total = ('purchase_amount','sum'),\n",
    "        amount_mean = ('purchase_amount','mean'),\n",
    "        amount_max = ('purchase_amount','max'),\n",
    "        amount_min = ('purchase_amount','min'),\n",
    "        amount_median = ('purchase_amount','median'),\n",
    "        merchant_category_nu = ('merchant_category_id','nunique'),\n",
    "        merchant_category_mode = ('merchant_category_id',lambda x: x.mode()[0]),\n",
    "        city_nu = ('city_id','nunique'),\n",
    "        city_mode = ('city_id',lambda x: x.mode()[0]),\n",
    "        state_nu = ('state_id','nunique'),\n",
    "        state_mode = ('state_id',lambda x: x.mode()[0]),\n",
    "        date_min  = ('purchase_date','min'),\n",
    "        date_max  = ('purchase_date','max'),\n",
    "        installments_mean = ('installments','mean'),\n",
    "        installments_max = ('installments','max'),\n",
    "        installments_min = ('installments','min'),\n",
    "        installments_median = ('installments','median'),\n",
    "        installments_sum = ('installments','sum'),\n",
    "        month_lag_mean = ('month_lag','mean'),\n",
    "        month_lag_max = ('month_lag','max'),\n",
    "        month_lag_min = ('month_lag','min'),\n",
    "        month_lag_median = ('month_lag','median'),\n",
    "        category_1_mod = ('category_1',lambda x: x.mode()[0]),\n",
    "        category_2_mod = ('category_2',lambda x: x.mode()[0]),\n",
    "        category_3_mod = ('category_3',lambda x: x.mode()[0]),\n",
    "        # additional\n",
    "        weekend_mean = ('weekend', 'mean'),\n",
    "        weekday_mean = ('weekday', 'mean'),\n",
    "        day_nu = ('day', 'nunique'),\n",
    "        day_min = ('day', 'min'),\n",
    "        day_max = ('day', 'max'),\n",
    "        price_sum = ('price', 'sum'),\n",
    "        price_min = ('price', 'min'),\n",
    "        price_max = ('price', 'max'),\n",
    "        price_mean = ('price', 'mean'),\n",
    "        duration_min = ('duration', 'min'),\n",
    "        duration_max = ('duration', 'max'),\n",
    "        duration_mean = ('duration', 'mean'),\n",
    "        amount_month_ratio_min = ('amount_month_ratio', 'min'),\n",
    "        amount_month_ratio_max = ('amount_month_ratio', 'max'),\n",
    "        amount_month_ratio_mean = ('amount_month_ratio', 'mean')\n",
    "    )"
   ]
  },
  {
   "cell_type": "code",
   "execution_count": 27,
   "metadata": {},
   "outputs": [],
   "source": [
    "hist_id_u = hist_id_u.merge(authorized_ratio,on='card_id')"
   ]
  },
  {
   "cell_type": "code",
   "execution_count": 28,
   "metadata": {},
   "outputs": [],
   "source": [
    "hist_id_u['duration'] = (hist_id_u['date_max'] - hist_id_u['date_min']).dt.days\n",
    "hist_id_u.date_max = (hist_id_u.date_max - hist_id_u.date_min.min()).dt.days\n",
    "hist_id_u.date_min = (hist_id_u.date_min - hist_id_u.date_min.min()).dt.days\n",
    "\n",
    "hist_id_u.merchant_category_mode = pd.to_numeric(hist_id_u.merchant_category_mode, errors='coerce')\n",
    "\n",
    "hist_id_u.columns = ['hist_' + col if col != 'card_id' else col for col in hist_id_u.columns]"
   ]
  },
  {
   "cell_type": "code",
   "execution_count": 29,
   "metadata": {},
   "outputs": [],
   "source": [
    "new_id_u = new.groupby('card_id',as_index=False)\\\n",
    "    .agg(\n",
    "        frequency = ('card_id','count'),\n",
    "        amount_total = ('purchase_amount','sum'),\n",
    "        amount_mean = ('purchase_amount','mean'),\n",
    "        amount_max = ('purchase_amount','max'),\n",
    "        amount_min = ('purchase_amount','min'),\n",
    "        amount_median = ('purchase_amount','median'),\n",
    "        merchant_category_nu = ('merchant_category_id','nunique'),\n",
    "        merchant_category_mode = ('merchant_category_id',lambda x: x.mode()[0]),\n",
    "        city_nu = ('city_id','nunique'),\n",
    "        city_mode = ('city_id',lambda x: x.mode()[0]),\n",
    "        state_nu = ('state_id','nunique'),\n",
    "        state_mode = ('state_id',lambda x: x.mode()[0]),\n",
    "        date_min  = ('purchase_date','min'),\n",
    "        date_max  = ('purchase_date','max'),\n",
    "        installments_mean = ('installments','mean'),\n",
    "        installments_max = ('installments','max'),\n",
    "        installments_min = ('installments','min'),\n",
    "        installments_median = ('installments','median'),\n",
    "        installments_sum = ('installments','sum'),\n",
    "        month_lag_mean = ('month_lag','mean'),\n",
    "        month_lag_max = ('month_lag','max'),\n",
    "        month_lag_min = ('month_lag','min'),\n",
    "        month_lag_median = ('month_lag','median'),\n",
    "        category_1_mod = ('category_1',lambda x: x.mode()[0]),\n",
    "        category_2_mod = ('category_2',lambda x: x.mode()[0]),\n",
    "        category_3_mod = ('category_3',lambda x: x.mode()[0]),\n",
    "        # additional\n",
    "        weekend_mean = ('weekend', 'mean'),\n",
    "        weekday_mean = ('weekday', 'mean'),\n",
    "        day_nu = ('day', 'nunique'),\n",
    "        day_min = ('day', 'min'),\n",
    "        day_max = ('day', 'max'),\n",
    "        price_sum = ('price', 'sum'),\n",
    "        price_min = ('price', 'min'),\n",
    "        price_max = ('price', 'max'),\n",
    "        price_mean = ('price', 'mean'),\n",
    "        duration_min = ('duration', 'min'),\n",
    "        duration_max = ('duration', 'max'),\n",
    "        duration_mean = ('duration', 'mean'),\n",
    "        amount_month_ratio_min = ('amount_month_ratio', 'min'),\n",
    "        amount_month_ratio_max = ('amount_month_ratio', 'max'),\n",
    "        amount_month_ratio_mean = ('amount_month_ratio', 'mean')\n",
    "    )"
   ]
  },
  {
   "cell_type": "code",
   "execution_count": 30,
   "metadata": {},
   "outputs": [],
   "source": [
    "new_id_u['duration'] = (new_id_u['date_max'] - new_id_u['date_min']).dt.days\n",
    "new_id_u.date_max = (new_id_u.date_max - new_id_u.date_min.min()).dt.days\n",
    "new_id_u.date_min = (new_id_u.date_min - new_id_u.date_min.min()).dt.days\n",
    "\n",
    "new_id_u.merchant_category_mode = pd.to_numeric(new_id_u.merchant_category_mode, errors='coerce')\n",
    "\n",
    "new_id_u.columns = ['new_' + col if col != 'card_id' else col for col in new_id_u.columns]"
   ]
  },
  {
   "cell_type": "code",
   "execution_count": null,
   "metadata": {},
   "outputs": [],
   "source": []
  },
  {
   "cell_type": "code",
   "execution_count": 31,
   "metadata": {},
   "outputs": [],
   "source": [
    "total_id_u = total.groupby('card_id',as_index=False)\\\n",
    "    .agg(\n",
    "        frequency = ('card_id','count'),\n",
    "        amount_total = ('purchase_amount','sum'),\n",
    "        amount_mean = ('purchase_amount','mean'),\n",
    "        amount_max = ('purchase_amount','max'),\n",
    "        amount_min = ('purchase_amount','min'),\n",
    "        amount_median = ('purchase_amount','median'),\n",
    "        merchant_category_nu = ('merchant_category_id','nunique'),\n",
    "        merchant_category_mode = ('merchant_category_id',lambda x: x.mode()[0]),\n",
    "        city_nu = ('city_id','nunique'),\n",
    "        city_mode = ('city_id',lambda x: x.mode()[0]),\n",
    "        state_nu = ('state_id','nunique'),\n",
    "        state_mode = ('state_id',lambda x: x.mode()[0]),\n",
    "        date_min  = ('purchase_date','min'),\n",
    "        date_max  = ('purchase_date','max'),\n",
    "        installments_mean = ('installments','mean'),\n",
    "        installments_max = ('installments','max'),\n",
    "        installments_min = ('installments','min'),\n",
    "        installments_median = ('installments','median'),\n",
    "        installments_sum = ('installments','sum'),\n",
    "        month_lag_mean = ('month_lag','mean'),\n",
    "        month_lag_max = ('month_lag','max'),\n",
    "        month_lag_min = ('month_lag','min'),\n",
    "        month_lag_median = ('month_lag','median'),\n",
    "        category_1_mod = ('category_1',lambda x: x.mode()[0]),\n",
    "        category_2_mod = ('category_2',lambda x: x.mode()[0]),\n",
    "        category_3_mod = ('category_3',lambda x: x.mode()[0]),\n",
    "        # additional\n",
    "        weekend_mean = ('weekend', 'mean'),\n",
    "        weekday_mean = ('weekday', 'mean'),\n",
    "        day_nu = ('day', 'nunique'),\n",
    "        day_min = ('day', 'min'),\n",
    "        day_max = ('day', 'max'),\n",
    "        price_sum = ('price', 'sum'),\n",
    "        price_min = ('price', 'min'),\n",
    "        price_max = ('price', 'max'),\n",
    "        price_mean = ('price', 'mean'),\n",
    "        duration_min = ('duration', 'min'),\n",
    "        duration_max = ('duration', 'max'),\n",
    "        duration_mean = ('duration', 'mean'),\n",
    "        amount_month_ratio_min = ('amount_month_ratio', 'min'),\n",
    "        amount_month_ratio_max = ('amount_month_ratio', 'max'),\n",
    "        amount_month_ratio_mean = ('amount_month_ratio', 'mean')\n",
    "    )"
   ]
  },
  {
   "cell_type": "code",
   "execution_count": 32,
   "metadata": {},
   "outputs": [],
   "source": [
    "total_id_u['duration'] = (total_id_u['date_max'] - total_id_u['date_min']).dt.days\n",
    "total_id_u.date_max = (total_id_u.date_max - total_id_u.date_min.min()).dt.days\n",
    "total_id_u.date_min = (total_id_u.date_min - total_id_u.date_min.min()).dt.days\n",
    "\n",
    "total_id_u.merchant_category_mode = pd.to_numeric(total_id_u.merchant_category_mode, errors='coerce')\n",
    "\n",
    "total_id_u.columns = ['total_' + col if col != 'card_id' else col for col in total_id_u.columns]"
   ]
  },
  {
   "cell_type": "code",
   "execution_count": null,
   "metadata": {},
   "outputs": [],
   "source": []
  },
  {
   "cell_type": "code",
   "execution_count": 33,
   "metadata": {},
   "outputs": [],
   "source": [
    "train = train.merge(hist_id_u, on='card_id',how='left')\n",
    "test = test.merge(hist_id_u, on='card_id',how='left')\n",
    "\n",
    "train = train.merge(new_id_u, on='card_id',how='left')\n",
    "test = test.merge(new_id_u, on='card_id',how='left')\n",
    "\n",
    "train = train.merge(total_id_u, on='card_id',how='left')\n",
    "test = test.merge(total_id_u, on='card_id',how='left')"
   ]
  },
  {
   "cell_type": "code",
   "execution_count": 36,
   "metadata": {},
   "outputs": [],
   "source": [
    "for df in [train, test]:\n",
    "    df['hist_count_No'].fillna(0,inplace=True)\n",
    "    df['hist_ratio_No'].fillna(0,inplace=True)\n",
    "    df['new_amount_total'].fillna(0,inplace=True)\n",
    "    df['new_amount_min'].fillna(0,inplace=True)\n",
    "    df['new_amount_max'].fillna(0,inplace=True)\n",
    "    df['new_amount_mean'].fillna(0,inplace=True)\n",
    "    df['new_amount_median'].fillna(0,inplace=True)\n",
    "    df['new_merchant_category_nu'].fillna(0,inplace=True)\n",
    "    df['new_city_nu'].fillna(0,inplace=True)\n",
    "    df['new_state_nu'].fillna(0,inplace=True)\n",
    "    df['new_installments_sum'].fillna(0,inplace=True)\n",
    "    df['new_installments_min'].fillna(0,inplace=True)\n",
    "    df['new_installments_max'].fillna(0,inplace=True)\n",
    "    df['new_installments_mean'].fillna(0,inplace=True)\n",
    "    df['new_installments_median'].fillna(0,inplace=True)\n",
    "    df['new_price_sum'].fillna(0,inplace=True)\n",
    "    df['new_price_min'].fillna(0,inplace=True)\n",
    "    df['new_price_max'].fillna(0,inplace=True)\n",
    "    df['new_price_mean'].fillna(0,inplace=True)\n",
    "    #df.fillna(0, inplace=True)"
   ]
  },
  {
   "cell_type": "code",
   "execution_count": 37,
   "metadata": {},
   "outputs": [],
   "source": [
    "for df in [train, test]:\n",
    "    df['ratio_amount_total'] = df['new_amount_total'] / df['hist_amount_total']\n",
    "    df['ratio_amount_mean'] = df['new_amount_mean'] / df['hist_amount_mean']\n",
    "    df['ratio_merchant_category_nu'] = df['new_merchant_category_nu'] / df['hist_merchant_category_nu']\n",
    "    #df['ratio_installments_mean'] = df['new_installments_mean'] / df['hist_installments_mean']\n",
    "    #df['ratio_installments_sum'] = df['new_installments_sum'] / df['hist_installments_sum']"
   ]
  },
  {
   "cell_type": "code",
   "execution_count": 38,
   "metadata": {},
   "outputs": [],
   "source": [
    "path_train_prepro = '../../../../data/processed/train_processed_30.csv'\n",
    "path_test_preprp = '../../../../data/processed/test_processed_30.csv'\n",
    "\n",
    "train.to_csv(path_train_prepro,index=False)\n",
    "test.to_csv(path_test_preprp,index=False)"
   ]
  },
  {
   "cell_type": "code",
   "execution_count": null,
   "metadata": {},
   "outputs": [],
   "source": []
  }
 ],
 "metadata": {
  "kernelspec": {
   "display_name": "Python 3",
   "language": "python",
   "name": "python3"
  },
  "language_info": {
   "codemirror_mode": {
    "name": "ipython",
    "version": 3
   },
   "file_extension": ".py",
   "mimetype": "text/x-python",
   "name": "python",
   "nbconvert_exporter": "python",
   "pygments_lexer": "ipython3",
   "version": "3.12.4"
  }
 },
 "nbformat": 4,
 "nbformat_minor": 2
}
