{
 "cells": [
  {
   "cell_type": "markdown",
   "metadata": {},
   "source": [
    "02で前処理をしたデータの読み込みと03で学習したモデルを使って推論を行うためのnotebookです。  "
   ]
  },
  {
   "cell_type": "markdown",
   "metadata": {},
   "source": [
    "## 必要なライブラリのimport"
   ]
  },
  {
   "cell_type": "code",
   "execution_count": 46,
   "metadata": {},
   "outputs": [],
   "source": [
    "import numpy as np\n",
    "import pandas as pd\n",
    "import lightgbm as lgb\n",
    "from sklearn.metrics import mean_squared_error\n",
    "import pickle"
   ]
  },
  {
   "cell_type": "code",
   "execution_count": 76,
   "metadata": {},
   "outputs": [],
   "source": [
    "# 予測したいデータの読み込み\n",
    "path_test_preprp = '../../../../data/processed/test_processed_0619.csv'\n",
    "\n",
    "test = pd.read_csv(path_test_preprp)\n",
    "#del test['target']"
   ]
  },
  {
   "cell_type": "markdown",
   "metadata": {},
   "source": [
    "## 保存されたモデルを使って予測を行う"
   ]
  },
  {
   "cell_type": "code",
   "execution_count": null,
   "metadata": {},
   "outputs": [],
   "source": []
  },
  {
   "cell_type": "code",
   "execution_count": 100,
   "metadata": {},
   "outputs": [],
   "source": [
    "n_folds = 5\n",
    "predictions_cls = np.zeros(len(test))\n",
    "features = [c for c in test.columns if c not in ['card_id',]]\n",
    "\n",
    "\n",
    "for fold_ in range(n_folds):\n",
    "    # モデルを読み込む\n",
    "    with open(f'../src/models/lgb_11_cls/model_fold_{fold_}.pkl', 'rb') as f:\n",
    "        clf = pickle.load(f)\n",
    "    # モデルで予測を行う\n",
    "    fold_predictions = clf.predict(test[features])\n",
    "    # 予測結果を足し合わせる\n",
    "    predictions_cls += fold_predictions\n",
    "\n",
    "# 平均を取る\n",
    "predictions_cls /= n_folds\n",
    "\n",
    "# RMSEを計算する（テストデータに対して真の値がある場合）\n",
    "# y_testが存在する場合に限り\n",
    "if 'y_test' in locals():\n",
    "    score = mean_squared_error(y_test, predictions_cls, squared=False)\n",
    "    print(f'RMSE={score}')\n"
   ]
  },
  {
   "cell_type": "code",
   "execution_count": 101,
   "metadata": {},
   "outputs": [
    {
     "name": "stdout",
     "output_type": "stream",
     "text": [
      "11\n",
      "0.6666489979451958\n",
      "[1. 1. 1. ... 1. 1. 1.]\n"
     ]
    }
   ],
   "source": [
    "print(len(predictions_cls[predictions_cls<0.7]))\n",
    "print(predictions_cls.min())\n",
    "predictions_cls = np.where(predictions_cls < 0.9, -33.21928095, 1)\n",
    "# 予測結果を出力する\n",
    "print(predictions_cls)"
   ]
  },
  {
   "cell_type": "code",
   "execution_count": 79,
   "metadata": {},
   "outputs": [
    {
     "data": {
      "text/html": [
       "<div>\n",
       "<style scoped>\n",
       "    .dataframe tbody tr th:only-of-type {\n",
       "        vertical-align: middle;\n",
       "    }\n",
       "\n",
       "    .dataframe tbody tr th {\n",
       "        vertical-align: top;\n",
       "    }\n",
       "\n",
       "    .dataframe thead th {\n",
       "        text-align: right;\n",
       "    }\n",
       "</style>\n",
       "<table border=\"1\" class=\"dataframe\">\n",
       "  <thead>\n",
       "    <tr style=\"text-align: right;\">\n",
       "      <th></th>\n",
       "      <th>card_id</th>\n",
       "      <th>target</th>\n",
       "    </tr>\n",
       "  </thead>\n",
       "  <tbody>\n",
       "    <tr>\n",
       "      <th>0</th>\n",
       "      <td>C_ID_0ab67a22ab</td>\n",
       "      <td>1.0</td>\n",
       "    </tr>\n",
       "    <tr>\n",
       "      <th>1</th>\n",
       "      <td>C_ID_130fd0cbdd</td>\n",
       "      <td>1.0</td>\n",
       "    </tr>\n",
       "    <tr>\n",
       "      <th>2</th>\n",
       "      <td>C_ID_b709037bc5</td>\n",
       "      <td>1.0</td>\n",
       "    </tr>\n",
       "    <tr>\n",
       "      <th>3</th>\n",
       "      <td>C_ID_d27d835a9f</td>\n",
       "      <td>1.0</td>\n",
       "    </tr>\n",
       "    <tr>\n",
       "      <th>4</th>\n",
       "      <td>C_ID_2b5e3df5c2</td>\n",
       "      <td>1.0</td>\n",
       "    </tr>\n",
       "    <tr>\n",
       "      <th>...</th>\n",
       "      <td>...</td>\n",
       "      <td>...</td>\n",
       "    </tr>\n",
       "    <tr>\n",
       "      <th>123618</th>\n",
       "      <td>C_ID_7a239d2eda</td>\n",
       "      <td>1.0</td>\n",
       "    </tr>\n",
       "    <tr>\n",
       "      <th>123619</th>\n",
       "      <td>C_ID_75ace375ae</td>\n",
       "      <td>1.0</td>\n",
       "    </tr>\n",
       "    <tr>\n",
       "      <th>123620</th>\n",
       "      <td>C_ID_21d56d950c</td>\n",
       "      <td>1.0</td>\n",
       "    </tr>\n",
       "    <tr>\n",
       "      <th>123621</th>\n",
       "      <td>C_ID_6c46fc5a9d</td>\n",
       "      <td>1.0</td>\n",
       "    </tr>\n",
       "    <tr>\n",
       "      <th>123622</th>\n",
       "      <td>C_ID_87e7979a5f</td>\n",
       "      <td>1.0</td>\n",
       "    </tr>\n",
       "  </tbody>\n",
       "</table>\n",
       "<p>123623 rows × 2 columns</p>\n",
       "</div>"
      ],
      "text/plain": [
       "                card_id  target\n",
       "0       C_ID_0ab67a22ab     1.0\n",
       "1       C_ID_130fd0cbdd     1.0\n",
       "2       C_ID_b709037bc5     1.0\n",
       "3       C_ID_d27d835a9f     1.0\n",
       "4       C_ID_2b5e3df5c2     1.0\n",
       "...                 ...     ...\n",
       "123618  C_ID_7a239d2eda     1.0\n",
       "123619  C_ID_75ace375ae     1.0\n",
       "123620  C_ID_21d56d950c     1.0\n",
       "123621  C_ID_6c46fc5a9d     1.0\n",
       "123622  C_ID_87e7979a5f     1.0\n",
       "\n",
       "[123623 rows x 2 columns]"
      ]
     },
     "execution_count": 79,
     "metadata": {},
     "output_type": "execute_result"
    }
   ],
   "source": [
    "tmp_cls = pd.DataFrame({\"card_id\":test[\"card_id\"].values})\n",
    "tmp_cls[\"target\"] = predictions_cls\n",
    "tmp_cls"
   ]
  },
  {
   "cell_type": "code",
   "execution_count": 80,
   "metadata": {},
   "outputs": [],
   "source": [
    "test_reg = test[test.card_id.isin(tmp_cls[tmp_cls.target==1].card_id)].reset_index(drop=True)"
   ]
  },
  {
   "cell_type": "code",
   "execution_count": null,
   "metadata": {},
   "outputs": [],
   "source": []
  },
  {
   "cell_type": "code",
   "execution_count": 87,
   "metadata": {},
   "outputs": [],
   "source": [
    "n_folds = 5\n",
    "predictions = np.zeros(len(test_reg))\n",
    "features = [c for c in test_reg.columns if c not in ['card_id',]]\n",
    "#categorical_feats = ['feature_1','feature_2', 'feature_3','hist_merchant_category_nu','hist_merchant_category_mode','hist_city_nu','hist_city_mode','hist_state_nu','hist_state_mode','hist_category_1_mod','hist_category_2_mod','hist_category_3_mod','new_merchant_category_nu','new_merchant_category_mode','new_city_nu','new_city_mode','new_state_nu','new_state_mode','new_category_1_mod','new_category_2_mod','new_category_3_mod']\n",
    "\n",
    "\n",
    "for fold_ in range(n_folds):\n",
    "    # モデルを読み込む\n",
    "    with open(f'../src/models/lgb_11_reg/model_fold_{fold_}.pkl', 'rb') as f:\n",
    "        clf = pickle.load(f)\n",
    "    # モデルで予測を行う\n",
    "    fold_predictions = clf.predict(test_reg[features])\n",
    "    # 予測結果を足し合わせる\n",
    "    predictions += fold_predictions\n",
    "\n",
    "# 平均を取る\n",
    "predictions /= n_folds\n",
    "\n",
    "# RMSEを計算する（テストデータに対して真の値がある場合）\n",
    "# y_testが存在する場合に限り\n",
    "if 'y_test' in locals():\n",
    "    score = mean_squared_error(y_test, predictions, squared=False)\n",
    "    print(f'RMSE={score}')"
   ]
  },
  {
   "cell_type": "code",
   "execution_count": 88,
   "metadata": {},
   "outputs": [
    {
     "name": "stdout",
     "output_type": "stream",
     "text": [
      "[-0.10077957  0.02924514  0.63447003 ...  0.94123341 -0.6613987\n",
      "  0.26516787]\n"
     ]
    }
   ],
   "source": [
    "# 予測結果を出力する\n",
    "print(predictions)"
   ]
  },
  {
   "cell_type": "code",
   "execution_count": 89,
   "metadata": {},
   "outputs": [
    {
     "data": {
      "text/html": [
       "<div>\n",
       "<style scoped>\n",
       "    .dataframe tbody tr th:only-of-type {\n",
       "        vertical-align: middle;\n",
       "    }\n",
       "\n",
       "    .dataframe tbody tr th {\n",
       "        vertical-align: top;\n",
       "    }\n",
       "\n",
       "    .dataframe thead th {\n",
       "        text-align: right;\n",
       "    }\n",
       "</style>\n",
       "<table border=\"1\" class=\"dataframe\">\n",
       "  <thead>\n",
       "    <tr style=\"text-align: right;\">\n",
       "      <th></th>\n",
       "      <th>card_id</th>\n",
       "      <th>target</th>\n",
       "    </tr>\n",
       "  </thead>\n",
       "  <tbody>\n",
       "    <tr>\n",
       "      <th>1</th>\n",
       "      <td>C_ID_130fd0cbdd</td>\n",
       "      <td>0.029245</td>\n",
       "    </tr>\n",
       "    <tr>\n",
       "      <th>2</th>\n",
       "      <td>C_ID_b709037bc5</td>\n",
       "      <td>0.634470</td>\n",
       "    </tr>\n",
       "    <tr>\n",
       "      <th>5</th>\n",
       "      <td>C_ID_5814b4f13c</td>\n",
       "      <td>0.133874</td>\n",
       "    </tr>\n",
       "    <tr>\n",
       "      <th>6</th>\n",
       "      <td>C_ID_a1b3c75277</td>\n",
       "      <td>0.077434</td>\n",
       "    </tr>\n",
       "    <tr>\n",
       "      <th>7</th>\n",
       "      <td>C_ID_f7cada36d3</td>\n",
       "      <td>0.983535</td>\n",
       "    </tr>\n",
       "    <tr>\n",
       "      <th>...</th>\n",
       "      <td>...</td>\n",
       "      <td>...</td>\n",
       "    </tr>\n",
       "    <tr>\n",
       "      <th>123617</th>\n",
       "      <td>C_ID_0e74bd4966</td>\n",
       "      <td>0.213797</td>\n",
       "    </tr>\n",
       "    <tr>\n",
       "      <th>123618</th>\n",
       "      <td>C_ID_7a239d2eda</td>\n",
       "      <td>1.218686</td>\n",
       "    </tr>\n",
       "    <tr>\n",
       "      <th>123619</th>\n",
       "      <td>C_ID_75ace375ae</td>\n",
       "      <td>0.395518</td>\n",
       "    </tr>\n",
       "    <tr>\n",
       "      <th>123620</th>\n",
       "      <td>C_ID_21d56d950c</td>\n",
       "      <td>0.941233</td>\n",
       "    </tr>\n",
       "    <tr>\n",
       "      <th>123622</th>\n",
       "      <td>C_ID_87e7979a5f</td>\n",
       "      <td>0.265168</td>\n",
       "    </tr>\n",
       "  </tbody>\n",
       "</table>\n",
       "<p>50145 rows × 2 columns</p>\n",
       "</div>"
      ],
      "text/plain": [
       "                card_id    target\n",
       "1       C_ID_130fd0cbdd  0.029245\n",
       "2       C_ID_b709037bc5  0.634470\n",
       "5       C_ID_5814b4f13c  0.133874\n",
       "6       C_ID_a1b3c75277  0.077434\n",
       "7       C_ID_f7cada36d3  0.983535\n",
       "...                 ...       ...\n",
       "123617  C_ID_0e74bd4966  0.213797\n",
       "123618  C_ID_7a239d2eda  1.218686\n",
       "123619  C_ID_75ace375ae  0.395518\n",
       "123620  C_ID_21d56d950c  0.941233\n",
       "123622  C_ID_87e7979a5f  0.265168\n",
       "\n",
       "[50145 rows x 2 columns]"
      ]
     },
     "execution_count": 89,
     "metadata": {},
     "output_type": "execute_result"
    }
   ],
   "source": [
    "tmp_reg = pd.DataFrame({\"card_id\":test_reg[\"card_id\"].values})\n",
    "tmp_reg[\"target\"] = predictions\n",
    "tmp_reg\n",
    "sub = pd.merge(tmp_cls,tmp_reg,how='left',on='card_id',suffixes=('_left', '_right'))\n",
    "sub['target'] = sub['target_right'].combine_first(sub['target_left'])\n",
    "\n",
    "# 不要な列を削除\n",
    "sub= sub.drop(columns=['target_left', 'target_right'])\n",
    "sub[sub.target  >0]"
   ]
  },
  {
   "cell_type": "code",
   "execution_count": 90,
   "metadata": {},
   "outputs": [
    {
     "data": {
      "text/html": [
       "<div>\n",
       "<style scoped>\n",
       "    .dataframe tbody tr th:only-of-type {\n",
       "        vertical-align: middle;\n",
       "    }\n",
       "\n",
       "    .dataframe tbody tr th {\n",
       "        vertical-align: top;\n",
       "    }\n",
       "\n",
       "    .dataframe thead th {\n",
       "        text-align: right;\n",
       "    }\n",
       "</style>\n",
       "<table border=\"1\" class=\"dataframe\">\n",
       "  <thead>\n",
       "    <tr style=\"text-align: right;\">\n",
       "      <th></th>\n",
       "      <th>card_id</th>\n",
       "      <th>target</th>\n",
       "    </tr>\n",
       "  </thead>\n",
       "  <tbody>\n",
       "    <tr>\n",
       "      <th>0</th>\n",
       "      <td>C_ID_0ab67a22ab</td>\n",
       "      <td>-0.100780</td>\n",
       "    </tr>\n",
       "    <tr>\n",
       "      <th>1</th>\n",
       "      <td>C_ID_130fd0cbdd</td>\n",
       "      <td>0.029245</td>\n",
       "    </tr>\n",
       "    <tr>\n",
       "      <th>2</th>\n",
       "      <td>C_ID_b709037bc5</td>\n",
       "      <td>0.634470</td>\n",
       "    </tr>\n",
       "    <tr>\n",
       "      <th>3</th>\n",
       "      <td>C_ID_d27d835a9f</td>\n",
       "      <td>-0.119837</td>\n",
       "    </tr>\n",
       "    <tr>\n",
       "      <th>4</th>\n",
       "      <td>C_ID_2b5e3df5c2</td>\n",
       "      <td>-0.150017</td>\n",
       "    </tr>\n",
       "    <tr>\n",
       "      <th>...</th>\n",
       "      <td>...</td>\n",
       "      <td>...</td>\n",
       "    </tr>\n",
       "    <tr>\n",
       "      <th>123618</th>\n",
       "      <td>C_ID_7a239d2eda</td>\n",
       "      <td>1.218686</td>\n",
       "    </tr>\n",
       "    <tr>\n",
       "      <th>123619</th>\n",
       "      <td>C_ID_75ace375ae</td>\n",
       "      <td>0.395518</td>\n",
       "    </tr>\n",
       "    <tr>\n",
       "      <th>123620</th>\n",
       "      <td>C_ID_21d56d950c</td>\n",
       "      <td>0.941233</td>\n",
       "    </tr>\n",
       "    <tr>\n",
       "      <th>123621</th>\n",
       "      <td>C_ID_6c46fc5a9d</td>\n",
       "      <td>-0.661399</td>\n",
       "    </tr>\n",
       "    <tr>\n",
       "      <th>123622</th>\n",
       "      <td>C_ID_87e7979a5f</td>\n",
       "      <td>0.265168</td>\n",
       "    </tr>\n",
       "  </tbody>\n",
       "</table>\n",
       "<p>123623 rows × 2 columns</p>\n",
       "</div>"
      ],
      "text/plain": [
       "                card_id    target\n",
       "0       C_ID_0ab67a22ab -0.100780\n",
       "1       C_ID_130fd0cbdd  0.029245\n",
       "2       C_ID_b709037bc5  0.634470\n",
       "3       C_ID_d27d835a9f -0.119837\n",
       "4       C_ID_2b5e3df5c2 -0.150017\n",
       "...                 ...       ...\n",
       "123618  C_ID_7a239d2eda  1.218686\n",
       "123619  C_ID_75ace375ae  0.395518\n",
       "123620  C_ID_21d56d950c  0.941233\n",
       "123621  C_ID_6c46fc5a9d -0.661399\n",
       "123622  C_ID_87e7979a5f  0.265168\n",
       "\n",
       "[123623 rows x 2 columns]"
      ]
     },
     "execution_count": 90,
     "metadata": {},
     "output_type": "execute_result"
    }
   ],
   "source": [
    "sub"
   ]
  },
  {
   "cell_type": "code",
   "execution_count": 92,
   "metadata": {},
   "outputs": [
    {
     "data": {
      "text/plain": [
       "(array([1.1550e+03, 0.0000e+00, 0.0000e+00, 0.0000e+00, 0.0000e+00,\n",
       "        0.0000e+00, 0.0000e+00, 0.0000e+00, 0.0000e+00, 0.0000e+00,\n",
       "        0.0000e+00, 0.0000e+00, 0.0000e+00, 0.0000e+00, 0.0000e+00,\n",
       "        0.0000e+00, 0.0000e+00, 0.0000e+00, 0.0000e+00, 0.0000e+00,\n",
       "        0.0000e+00, 0.0000e+00, 0.0000e+00, 0.0000e+00, 0.0000e+00,\n",
       "        0.0000e+00, 0.0000e+00, 0.0000e+00, 0.0000e+00, 0.0000e+00,\n",
       "        0.0000e+00, 0.0000e+00, 0.0000e+00, 0.0000e+00, 0.0000e+00,\n",
       "        0.0000e+00, 0.0000e+00, 0.0000e+00, 0.0000e+00, 0.0000e+00,\n",
       "        0.0000e+00, 0.0000e+00, 0.0000e+00, 0.0000e+00, 0.0000e+00,\n",
       "        0.0000e+00, 0.0000e+00, 0.0000e+00, 0.0000e+00, 0.0000e+00,\n",
       "        0.0000e+00, 0.0000e+00, 0.0000e+00, 0.0000e+00, 0.0000e+00,\n",
       "        0.0000e+00, 0.0000e+00, 0.0000e+00, 0.0000e+00, 0.0000e+00,\n",
       "        0.0000e+00, 0.0000e+00, 0.0000e+00, 0.0000e+00, 0.0000e+00,\n",
       "        0.0000e+00, 0.0000e+00, 0.0000e+00, 0.0000e+00, 0.0000e+00,\n",
       "        0.0000e+00, 0.0000e+00, 0.0000e+00, 0.0000e+00, 0.0000e+00,\n",
       "        0.0000e+00, 0.0000e+00, 0.0000e+00, 0.0000e+00, 0.0000e+00,\n",
       "        1.0000e+00, 0.0000e+00, 0.0000e+00, 5.0000e+00, 7.0000e+00,\n",
       "        2.6000e+01, 9.9000e+01, 4.9000e+02, 2.3930e+03, 8.4850e+03,\n",
       "        2.5532e+04, 4.5543e+04, 2.2896e+04, 8.2520e+03, 4.4200e+03,\n",
       "        2.6900e+03, 1.1520e+03, 3.6700e+02, 9.1000e+01, 1.9000e+01]),\n",
       " array([-33.21928095, -32.85717785, -32.49507474, -32.13297164,\n",
       "        -31.77086854, -31.40876543, -31.04666233, -30.68455923,\n",
       "        -30.32245612, -29.96035302, -29.59824992, -29.23614682,\n",
       "        -28.87404371, -28.51194061, -28.14983751, -27.7877344 ,\n",
       "        -27.4256313 , -27.0635282 , -26.70142509, -26.33932199,\n",
       "        -25.97721889, -25.61511578, -25.25301268, -24.89090958,\n",
       "        -24.52880647, -24.16670337, -23.80460027, -23.44249716,\n",
       "        -23.08039406, -22.71829096, -22.35618786, -21.99408475,\n",
       "        -21.63198165, -21.26987855, -20.90777544, -20.54567234,\n",
       "        -20.18356924, -19.82146613, -19.45936303, -19.09725993,\n",
       "        -18.73515682, -18.37305372, -18.01095062, -17.64884751,\n",
       "        -17.28674441, -16.92464131, -16.56253821, -16.2004351 ,\n",
       "        -15.838332  , -15.4762289 , -15.11412579, -14.75202269,\n",
       "        -14.38991959, -14.02781648, -13.66571338, -13.30361028,\n",
       "        -12.94150717, -12.57940407, -12.21730097, -11.85519786,\n",
       "        -11.49309476, -11.13099166, -10.76888855, -10.40678545,\n",
       "        -10.04468235,  -9.68257925,  -9.32047614,  -8.95837304,\n",
       "         -8.59626994,  -8.23416683,  -7.87206373,  -7.50996063,\n",
       "         -7.14785752,  -6.78575442,  -6.42365132,  -6.06154821,\n",
       "         -5.69944511,  -5.33734201,  -4.9752389 ,  -4.6131358 ,\n",
       "         -4.2510327 ,  -3.88892959,  -3.52682649,  -3.16472339,\n",
       "         -2.80262029,  -2.44051718,  -2.07841408,  -1.71631098,\n",
       "         -1.35420787,  -0.99210477,  -0.63000167,  -0.26789856,\n",
       "          0.09420454,   0.45630764,   0.81841075,   1.18051385,\n",
       "          1.54261695,   1.90472006,   2.26682316,   2.62892626,\n",
       "          2.99102937]),\n",
       " <BarContainer object of 100 artists>)"
      ]
     },
     "execution_count": 92,
     "metadata": {},
     "output_type": "execute_result"
    },
    {
     "data": {
      "image/png": "[encoded data removed]",
      "text/plain": [
       "<Figure size 640x480 with 1 Axes>"
      ]
     },
     "metadata": {},
     "output_type": "display_data"
    }
   ],
   "source": [
    "import matplotlib.pyplot as plt\n",
    "plt.hist(sub.target,bins=100)"
   ]
  },
  {
   "cell_type": "markdown",
   "metadata": {},
   "source": [
    "## 提出用ファイルの作成"
   ]
  },
  {
   "cell_type": "code",
   "execution_count": 93,
   "metadata": {},
   "outputs": [],
   "source": [
    "sub.to_csv(\"../submit_oshikiri_0619_311.csv\", index=False)"
   ]
  }
 ],
 "metadata": {
  "kernelspec": {
   "display_name": "Python 3",
   "language": "python",
   "name": "python3"
  },
  "language_info": {
   "codemirror_mode": {
    "name": "ipython",
    "version": 3
   },
   "file_extension": ".py",
   "mimetype": "text/x-python",
   "name": "python",
   "nbconvert_exporter": "python",
   "pygments_lexer": "ipython3",
   "version": "3.12.4"
  }
 },
 "nbformat": 4,
 "nbformat_minor": 2
}
