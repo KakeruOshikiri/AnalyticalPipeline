{
 "cells": [
  {
   "cell_type": "code",
   "execution_count": 1,
   "metadata": {},
   "outputs": [],
   "source": [
    "import warnings\n",
    "import time\n",
    "import sys\n",
    "import datetime\n",
    "import pickle\n",
    "import os\n",
    "\n",
    "import numpy as np\n",
    "import pandas as pd\n",
    "import matplotlib.pyplot as plt\n",
    "import seaborn as sns\n",
    "import lightgbm as lgb\n",
    "from sklearn.model_selection import KFold\n",
    "from sklearn.metrics import mean_squared_error\n",
    "\n",
    "warnings.simplefilter(action='ignore', category=FutureWarning)\n",
    "pd.set_option('display.max_columns', 500)\n",
    "\n",
    "%matplotlib inline"
   ]
  },
  {
   "cell_type": "code",
   "execution_count": 2,
   "metadata": {},
   "outputs": [],
   "source": [
    "def reduce_mem_usage(df, verbose=True):\n",
    "    numerics = ['int16', 'int32', 'int64', 'float16', 'float32', 'float64']\n",
    "    start_mem = df.memory_usage().sum() / 1024**2\n",
    "    for col in df.columns:\n",
    "        col_type = df[col].dtypes\n",
    "        if col_type in numerics:\n",
    "            c_min = df[col].min()\n",
    "            c_max = df[col].max()\n",
    "            if str(col_type)[:3] == 'int':\n",
    "                if c_min > np.iinfo(np.int8).min and c_max < np.iinfo(np.int8).max:\n",
    "                    df[col] = df[col].astype(np.int8)\n",
    "                elif c_min > np.iinfo(np.int16).min and c_max < np.iinfo(np.int16).max:\n",
    "                    df[col] = df[col].astype(np.int16)\n",
    "                elif c_min > np.iinfo(np.int32).min and c_max < np.iinfo(np.int32).max:\n",
    "                    df[col] = df[col].astype(np.int32)\n",
    "                elif c_min > np.iinfo(np.int64).min and c_max < np.iinfo(np.int64).max:\n",
    "                    df[col] = df[col].astype(np.int64)\n",
    "            else:\n",
    "                if c_min > np.finfo(np.float16).min and c_max < np.finfo(np.float16).max:\n",
    "                    df[col] = df[col].astype(np.float16)\n",
    "                elif c_min > np.finfo(np.float32).min and c_max < np.finfo(np.float32).max:\n",
    "                    df[col] = df[col].astype(np.float32)\n",
    "                else:\n",
    "                    df[col] = df[col].astype(np.float64)\n",
    "    end_mem = df.memory_usage().sum() / 1024**2\n",
    "    if verbose: print('Mem. usage decreased to {:5.2f} Mb ({:.1f}% reduction)'.format(end_mem, 100 * (start_mem - end_mem) / start_mem))\n",
    "    return df"
   ]
  },
  {
   "cell_type": "code",
   "execution_count": 43,
   "metadata": {},
   "outputs": [],
   "source": [
    "def preprocessing(df):\n",
    "    for col in ['authorized_flag', 'category_1']:\n",
    "        df[col] = df[col].map({'Y':1, 'N':0})\n",
    "    for col in ['category_3']:\n",
    "        df[col] = df[col].map({'A':1, 'B':2,'C':3})\n",
    "    return df\n",
    "\n",
    "def read_data(input_file):\n",
    "    df = pd.read_csv(input_file)\n",
    "    df['first_active_month'] = pd.to_datetime(df['first_active_month'])\n",
    "    df['elapsed_time'] = (pd.Timestamp('2018-02-01') - df['first_active_month']).dt.days\n",
    "    return df"
   ]
  },
  {
   "cell_type": "code",
   "execution_count": 44,
   "metadata": {},
   "outputs": [
    {
     "name": "stdout",
     "output_type": "stream",
     "text": [
      "Mem. usage decreased to 76.76 Mb (63.4% reduction)\n",
      "Mem. usage decreased to 1193.84 Mb (61.6% reduction)\n"
     ]
    }
   ],
   "source": [
    "# データの読み込み\n",
    "path_new = '../../../../data/raw/new_merchant_transactions.csv'\n",
    "path_hist = '../../../../data/raw/historical_transactions.csv'\n",
    "path_train = '../../../../data/raw/train.csv'\n",
    "path_test = '../../../../data/raw/test.csv'\n",
    "\n",
    "new = pd.read_csv(path_new, parse_dates=['purchase_date'])\n",
    "hist = pd.read_csv(path_hist ,parse_dates=['purchase_date'])\n",
    "\n",
    "new = preprocessing(new)\n",
    "hist = preprocessing(hist)\n",
    "\n",
    "new = reduce_mem_usage(new)\n",
    "hist = reduce_mem_usage(hist)\n",
    "\n",
    "train = pd.read_csv(path_train, parse_dates=['first_active_month'])\n",
    "test = pd.read_csv(path_test, parse_dates=['first_active_month'])\n",
    "\n",
    "target = train['target']\n",
    "#del train['target']"
   ]
  },
  {
   "cell_type": "code",
   "execution_count": 179,
   "metadata": {},
   "outputs": [],
   "source": [
    "train = pd.read_csv(path_train, parse_dates=['first_active_month'])\n",
    "test = pd.read_csv(path_test, parse_dates=['first_active_month'])"
   ]
  },
  {
   "cell_type": "markdown",
   "metadata": {},
   "source": [
    "## NULL処理"
   ]
  },
  {
   "cell_type": "code",
   "execution_count": 182,
   "metadata": {},
   "outputs": [],
   "source": [
    "test_null_id = test[test.first_active_month.isna()].card_id.iloc[-1]\n",
    "null_month = hist[hist.card_id == test_null_id].purchase_date.dt.strftime(\"%Y-%m-01\").min()\n",
    "test.fillna({'first_active_month':null_month},inplace=True)"
   ]
  },
  {
   "cell_type": "code",
   "execution_count": 183,
   "metadata": {},
   "outputs": [],
   "source": [
    "for df in [test, train]:\n",
    "    df['elapsed_time'] = (pd.Timestamp('2018-02-01') - df['first_active_month']).dt.days"
   ]
  },
  {
   "cell_type": "code",
   "execution_count": 45,
   "metadata": {},
   "outputs": [],
   "source": [
    "for df in [hist, new]:\n",
    "    df['category_2'].fillna(1,inplace=True) # 1が最頻値\n",
    "    df['category_3'].fillna(1,inplace=True) # 1が最頻値\n",
    "    df['merchant_id'].fillna('M_ID_00a6ca8a8a',inplace=True) # 最頻値"
   ]
  },
  {
   "cell_type": "markdown",
   "metadata": {},
   "source": [
    "## 特徴量作成"
   ]
  },
  {
   "cell_type": "code",
   "execution_count": 71,
   "metadata": {},
   "outputs": [],
   "source": [
    "# 承認フラグ　Yes,Noの数と比\n",
    "# histのみ（newはYesのみのため）\n",
    "authorized_flag = hist[['card_id','authorized_flag']].groupby(['card_id','authorized_flag']).agg(count=('card_id','count')).reset_index()\n",
    "\n",
    "# カードIDごとの合計を計算\n",
    "total_counts = authorized_flag.groupby('card_id')['count'].sum().reset_index()\n",
    "total_counts = total_counts.rename(columns={'count': 'total_count'})\n",
    "\n",
    "# 元のデータと合計を結合\n",
    "authorized_flag = authorized_flag.merge(total_counts, on='card_id')\n",
    "\n",
    "# 割合を計算\n",
    "authorized_flag['ratio'] = authorized_flag['count'] / authorized_flag['total_count']\n",
    "\n",
    "# 結果を整形\n",
    "authorized_ratio = authorized_flag.pivot(index='card_id', columns='authorized_flag', values=['ratio','count']).reset_index().rename(columns={0: 'No', 1: 'Yes'})\n",
    "authorized_ratio.columns = ['_'.join(col).strip() for col in authorized_ratio.columns.values]\n",
    "authorized_ratio.rename(columns={'card_id_': 'card_id'},inplace=True)"
   ]
  },
  {
   "cell_type": "code",
   "execution_count": 145,
   "metadata": {},
   "outputs": [],
   "source": [
    "hist_id_u = hist.groupby('card_id',as_index=False)\\\n",
    "    .agg(\n",
    "            frequency = ('card_id','count'),\n",
    "            amount_total = ('purchase_amount','sum'),\n",
    "            amount_mean = ('purchase_amount','mean'),\n",
    "            merchant_category_nu = ('merchant_category_id','nunique'),\n",
    "            merchant_category_mode = ('merchant_category_id',lambda x: x.mode()[0]),\n",
    "            city_nu = ('city_id','nunique'),\n",
    "            city_mode = ('city_id',lambda x: x.mode()[0]),\n",
    "            state_nu = ('state_id','nunique'),\n",
    "            state_mode = ('state_id',lambda x: x.mode()[0]),\n",
    "            date_min  = ('purchase_date','min'),\n",
    "            date_max  = ('purchase_date','max'),\n",
    "            installments_mean = ('installments','mean'),\n",
    "            installments_max = ('installments','max'),\n",
    "            installments_min = ('installments','min'),\n",
    "            month_lag_mean = ('month_lag','mean'),\n",
    "            month_lag_max = ('month_lag','max'),\n",
    "            month_lag_min = ('month_lag','min'),\n",
    "            category_1_mod = ('category_1',lambda x: x.mode()[0]),\n",
    "            category_2_mod = ('category_2',lambda x: x.mode()[0]),\n",
    "            category_3_mod = ('category_3',lambda x: x.mode()[0]),\n",
    "        )"
   ]
  },
  {
   "cell_type": "code",
   "execution_count": 146,
   "metadata": {},
   "outputs": [],
   "source": [
    "hist_id_u = hist_id_u.merge(authorized_ratio,on='card_id')\n",
    "\n",
    "#hist_id_u.drop(columns={'ratio_Yes_x','ratio_Yes_y','ratio_No_x','ratio_No_y','count_Yes_x','count_Yes_y','count_No_x','count_No_y',},inplace=True)"
   ]
  },
  {
   "cell_type": "code",
   "execution_count": 147,
   "metadata": {},
   "outputs": [],
   "source": [
    "hist_id_u['duration'] = (hist_id_u['date_max'] - hist_id_u['date_min']).dt.days"
   ]
  },
  {
   "cell_type": "code",
   "execution_count": 148,
   "metadata": {},
   "outputs": [],
   "source": [
    "hist_id_u.columns = ['hist_' + col if col != 'card_id' else col for col in hist_id_u.columns]"
   ]
  },
  {
   "cell_type": "code",
   "execution_count": 149,
   "metadata": {},
   "outputs": [],
   "source": [
    "new_id_u = new.groupby('card_id',as_index=False).agg(\n",
    "            frequency = ('card_id','count'),\n",
    "            amount_total = ('purchase_amount','sum'),\n",
    "            amount_mean = ('purchase_amount','mean'),\n",
    "            merchant_category_nu = ('merchant_category_id','nunique'),\n",
    "            merchant_category_mode = ('merchant_category_id',lambda x: x.mode()[0]),\n",
    "            city_nu = ('city_id','nunique'),\n",
    "            city_mode = ('city_id',lambda x: x.mode()[0]),\n",
    "            state_nu = ('state_id','nunique'),\n",
    "            state_mode = ('state_id',lambda x: x.mode()[0]),\n",
    "            date_min  = ('purchase_date','min'),\n",
    "            date_max  = ('purchase_date','max'),\n",
    "            installments_mean = ('installments','mean'),\n",
    "            installments_max = ('installments','max'),\n",
    "            installments_min = ('installments','min'),\n",
    "            month_lag_mean = ('month_lag','mean'),\n",
    "            month_lag_max = ('month_lag','max'),\n",
    "            month_lag_min = ('month_lag','min'),\n",
    "            category_1_mod = ('category_1',lambda x: x.mode()[0]),\n",
    "            category_2_mod = ('category_2',lambda x: x.mode()[0]),\n",
    "            category_3_mod = ('category_3',lambda x: x.mode()[0])\n",
    "        )"
   ]
  },
  {
   "cell_type": "code",
   "execution_count": 150,
   "metadata": {},
   "outputs": [],
   "source": [
    "new_id_u['duration'] = (new_id_u['date_max'] - new_id_u['date_min']).dt.days"
   ]
  },
  {
   "cell_type": "code",
   "execution_count": 151,
   "metadata": {},
   "outputs": [],
   "source": [
    "new_id_u.columns = ['new_' + col if col != 'card_id' else col for col in new_id_u.columns]"
   ]
  },
  {
   "cell_type": "code",
   "execution_count": 152,
   "metadata": {},
   "outputs": [],
   "source": [
    "hist_id_u.hist_merchant_category_mode = pd.to_numeric(hist_id_u.hist_merchant_category_mode, errors='coerce')"
   ]
  },
  {
   "cell_type": "code",
   "execution_count": 185,
   "metadata": {},
   "outputs": [],
   "source": [
    "train = train.merge(hist_id_u, on='card_id',how='left')\n",
    "test = test.merge(hist_id_u, on='card_id',how='left')\n",
    "\n",
    "# newは欠損値をどう埋めるかが問題になるのでいったん無視\n",
    "#train = train.merge(new_id_u, on='card_id',how='left')\n",
    "#test = test.merge(new_id_u, on='card_id',how='left')"
   ]
  },
  {
   "cell_type": "code",
   "execution_count": 187,
   "metadata": {},
   "outputs": [],
   "source": [
    "for df in [train, test]:\n",
    "    df['hist_count_No'].fillna(0,inplace=True)\n",
    "    df['hist_ratio_No'].fillna(0,inplace=True)"
   ]
  },
  {
   "cell_type": "code",
   "execution_count": 189,
   "metadata": {},
   "outputs": [],
   "source": [
    "path_train_prepro = '../../../../data/processed/train_processed_0618.csv'\n",
    "path_test_preprp = '../../../../data/processed/test_processed_0618.csv'\n",
    "\n",
    "train.to_csv(path_train_prepro,index=False)\n",
    "test.to_csv(path_test_preprp,index=False)"
   ]
  }
 ],
 "metadata": {
  "kernelspec": {
   "display_name": "Python 3",
   "language": "python",
   "name": "python3"
  },
  "language_info": {
   "codemirror_mode": {
    "name": "ipython",
    "version": 3
   },
   "file_extension": ".py",
   "mimetype": "text/x-python",
   "name": "python",
   "nbconvert_exporter": "python",
   "pygments_lexer": "ipython3",
   "version": "3.12.4"
  }
 },
 "nbformat": 4,
 "nbformat_minor": 2
}
