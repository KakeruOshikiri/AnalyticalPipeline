{
 "cells": [
  {
   "cell_type": "markdown",
   "metadata": {},
   "source": [
    "02で前処理をしたデータの読み込みと03で学習したモデルを使って推論を行うためのnotebookです。  "
   ]
  },
  {
   "cell_type": "markdown",
   "metadata": {},
   "source": [
    "## 必要なライブラリのimport"
   ]
  },
  {
   "cell_type": "code",
   "execution_count": 1,
   "metadata": {},
   "outputs": [],
   "source": [
    "import numpy as np\n",
    "import pandas as pd\n",
    "import lightgbm as lgb\n",
    "from sklearn.metrics import mean_squared_error\n",
    "import pickle"
   ]
  },
  {
   "cell_type": "code",
   "execution_count": 11,
   "metadata": {},
   "outputs": [],
   "source": [
    "# 予測したいデータの読み込み\n",
    "path_test_preprp = '../../../../data/processed/test_processed_0618.csv'\n",
    "\n",
    "test = pd.read_csv(path_test_preprp)"
   ]
  },
  {
   "cell_type": "markdown",
   "metadata": {},
   "source": [
    "## 保存されたモデルを使って予測を行う"
   ]
  },
  {
   "cell_type": "code",
   "execution_count": 13,
   "metadata": {},
   "outputs": [],
   "source": [
    "n_folds = 5\n",
    "predictions = np.zeros(len(test))\n",
    "features = [c for c in test.columns if c not in ['card_id', 'first_active_month','hist_date_min','hist_date_max','new_date_min','new_date_max',]]\n",
    "#categorical_feats = ['feature_1','feature_2', 'feature_3','hist_merchant_category_nu','hist_merchant_category_mode','hist_city_nu','hist_city_mode','hist_state_nu','hist_state_mode','hist_category_1_mod','hist_category_2_mod','hist_category_3_mod','new_merchant_category_nu','new_merchant_category_mode','new_city_nu','new_city_mode','new_state_nu','new_state_mode','new_category_1_mod','new_category_2_mod','new_category_3_mod']\n",
    "\n",
    "\n",
    "for fold_ in range(n_folds):\n",
    "    # モデルを読み込む\n",
    "    with open(f'../src/models/lgb_0618/model_fold_{fold_}.pkl', 'rb') as f:\n",
    "        clf = pickle.load(f)\n",
    "    \n",
    "    # モデルで予測を行う\n",
    "    fold_predictions = clf.predict(test[features])\n",
    "    \n",
    "    # 予測結果を足し合わせる\n",
    "    predictions += fold_predictions\n",
    "\n",
    "# 平均を取る\n",
    "predictions /= n_folds\n",
    "\n",
    "# RMSEを計算する（テストデータに対して真の値がある場合）\n",
    "# y_testが存在する場合に限り\n",
    "if 'y_test' in locals():\n",
    "    score = mean_squared_error(y_test, predictions, squared=False)\n",
    "    print(f'RMSE={score}')"
   ]
  },
  {
   "cell_type": "code",
   "execution_count": 14,
   "metadata": {},
   "outputs": [
    {
     "name": "stdout",
     "output_type": "stream",
     "text": [
      "[-2.90247145 -0.02356397  0.11950612 ... -0.85475313 -1.87558558\n",
      " -0.02319327]\n"
     ]
    }
   ],
   "source": [
    "# 予測結果を出力する\n",
    "print(predictions)"
   ]
  },
  {
   "cell_type": "markdown",
   "metadata": {},
   "source": [
    "## 提出用ファイルの作成"
   ]
  },
  {
   "cell_type": "code",
   "execution_count": 15,
   "metadata": {},
   "outputs": [],
   "source": [
    "sub_df = pd.DataFrame({\"card_id\":test[\"card_id\"].values})\n",
    "sub_df[\"target\"] = predictions\n",
    "sub_df.to_csv(\"../submit_oshikiri_0618.csv\", index=False)"
   ]
  },
  {
   "cell_type": "code",
   "execution_count": 16,
   "metadata": {},
   "outputs": [
    {
     "data": {
      "text/plain": [
       "<Axes: ylabel='Frequency'>"
      ]
     },
     "execution_count": 16,
     "metadata": {},
     "output_type": "execute_result"
    },
    {
     "data": {
      "image/png": "[encoded data removed]",
      "text/plain": [
       "<Figure size 640x480 with 1 Axes>"
      ]
     },
     "metadata": {},
     "output_type": "display_data"
    }
   ],
   "source": [
    "sub_df.plot.hist()"
   ]
  },
  {
   "cell_type": "code",
   "execution_count": 17,
   "metadata": {},
   "outputs": [
    {
     "data": {
      "text/html": [
       "<div>\n",
       "<style scoped>\n",
       "    .dataframe tbody tr th:only-of-type {\n",
       "        vertical-align: middle;\n",
       "    }\n",
       "\n",
       "    .dataframe tbody tr th {\n",
       "        vertical-align: top;\n",
       "    }\n",
       "\n",
       "    .dataframe thead th {\n",
       "        text-align: right;\n",
       "    }\n",
       "</style>\n",
       "<table border=\"1\" class=\"dataframe\">\n",
       "  <thead>\n",
       "    <tr style=\"text-align: right;\">\n",
       "      <th></th>\n",
       "      <th>card_id</th>\n",
       "      <th>target</th>\n",
       "    </tr>\n",
       "  </thead>\n",
       "  <tbody>\n",
       "    <tr>\n",
       "      <th>0</th>\n",
       "      <td>C_ID_0ab67a22ab</td>\n",
       "      <td>-2.902471</td>\n",
       "    </tr>\n",
       "    <tr>\n",
       "      <th>1</th>\n",
       "      <td>C_ID_130fd0cbdd</td>\n",
       "      <td>-0.023564</td>\n",
       "    </tr>\n",
       "    <tr>\n",
       "      <th>2</th>\n",
       "      <td>C_ID_b709037bc5</td>\n",
       "      <td>0.119506</td>\n",
       "    </tr>\n",
       "    <tr>\n",
       "      <th>3</th>\n",
       "      <td>C_ID_d27d835a9f</td>\n",
       "      <td>-0.082026</td>\n",
       "    </tr>\n",
       "    <tr>\n",
       "      <th>4</th>\n",
       "      <td>C_ID_2b5e3df5c2</td>\n",
       "      <td>-0.202704</td>\n",
       "    </tr>\n",
       "    <tr>\n",
       "      <th>...</th>\n",
       "      <td>...</td>\n",
       "      <td>...</td>\n",
       "    </tr>\n",
       "    <tr>\n",
       "      <th>123618</th>\n",
       "      <td>C_ID_7a239d2eda</td>\n",
       "      <td>-0.176541</td>\n",
       "    </tr>\n",
       "    <tr>\n",
       "      <th>123619</th>\n",
       "      <td>C_ID_75ace375ae</td>\n",
       "      <td>0.264501</td>\n",
       "    </tr>\n",
       "    <tr>\n",
       "      <th>123620</th>\n",
       "      <td>C_ID_21d56d950c</td>\n",
       "      <td>-0.854753</td>\n",
       "    </tr>\n",
       "    <tr>\n",
       "      <th>123621</th>\n",
       "      <td>C_ID_6c46fc5a9d</td>\n",
       "      <td>-1.875586</td>\n",
       "    </tr>\n",
       "    <tr>\n",
       "      <th>123622</th>\n",
       "      <td>C_ID_87e7979a5f</td>\n",
       "      <td>-0.023193</td>\n",
       "    </tr>\n",
       "  </tbody>\n",
       "</table>\n",
       "<p>123623 rows × 2 columns</p>\n",
       "</div>"
      ],
      "text/plain": [
       "                card_id    target\n",
       "0       C_ID_0ab67a22ab -2.902471\n",
       "1       C_ID_130fd0cbdd -0.023564\n",
       "2       C_ID_b709037bc5  0.119506\n",
       "3       C_ID_d27d835a9f -0.082026\n",
       "4       C_ID_2b5e3df5c2 -0.202704\n",
       "...                 ...       ...\n",
       "123618  C_ID_7a239d2eda -0.176541\n",
       "123619  C_ID_75ace375ae  0.264501\n",
       "123620  C_ID_21d56d950c -0.854753\n",
       "123621  C_ID_6c46fc5a9d -1.875586\n",
       "123622  C_ID_87e7979a5f -0.023193\n",
       "\n",
       "[123623 rows x 2 columns]"
      ]
     },
     "execution_count": 17,
     "metadata": {},
     "output_type": "execute_result"
    }
   ],
   "source": [
    "sub_df"
   ]
  }
 ],
 "metadata": {
  "kernelspec": {
   "display_name": "Python 3",
   "language": "python",
   "name": "python3"
  },
  "language_info": {
   "codemirror_mode": {
    "name": "ipython",
    "version": 3
   },
   "file_extension": ".py",
   "mimetype": "text/x-python",
   "name": "python",
   "nbconvert_exporter": "python",
   "pygments_lexer": "ipython3",
   "version": "3.12.4"
  }
 },
 "nbformat": 4,
 "nbformat_minor": 2
}
